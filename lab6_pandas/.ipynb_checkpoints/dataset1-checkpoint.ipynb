{
 "cells": [
  {
   "cell_type": "markdown",
   "id": "4bd5eb94-af58-4bfc-b764-f0dcb56c9f9b",
   "metadata": {},
   "source": [
    "# Questions for Dataset 1:"
   ]
  },
  {
   "cell_type": "markdown",
   "id": "73f55fa2-6c68-4b75-944e-513ca6555d46",
   "metadata": {},
   "source": [
    "## 1. Basic DataFrame Operations:"
   ]
  },
  {
   "cell_type": "markdown",
   "id": "f3face67-d426-4c78-b29e-feb23c8426e3",
   "metadata": {},
   "source": [
    "### Load the dataset into a Pandas DataFrame."
   ]
  },
  {
   "cell_type": "code",
   "execution_count": 250,
   "id": "a4e3f5d9-ed89-4eb5-bbac-cadf89bc9464",
   "metadata": {
    "scrolled": true
   },
   "outputs": [
    {
     "data": {
      "text/html": [
       "<div>\n",
       "<style scoped>\n",
       "    .dataframe tbody tr th:only-of-type {\n",
       "        vertical-align: middle;\n",
       "    }\n",
       "\n",
       "    .dataframe tbody tr th {\n",
       "        vertical-align: top;\n",
       "    }\n",
       "\n",
       "    .dataframe thead th {\n",
       "        text-align: right;\n",
       "    }\n",
       "</style>\n",
       "<table border=\"1\" class=\"dataframe\">\n",
       "  <thead>\n",
       "    <tr style=\"text-align: right;\">\n",
       "      <th></th>\n",
       "      <th>StudentID</th>\n",
       "      <th>Name</th>\n",
       "      <th>Age</th>\n",
       "      <th>Gender</th>\n",
       "      <th>Math</th>\n",
       "      <th>Science</th>\n",
       "      <th>English</th>\n",
       "      <th>History</th>\n",
       "      <th>Physical_Education</th>\n",
       "    </tr>\n",
       "  </thead>\n",
       "  <tbody>\n",
       "    <tr>\n",
       "      <th>0</th>\n",
       "      <td>1</td>\n",
       "      <td>John</td>\n",
       "      <td>16</td>\n",
       "      <td>M</td>\n",
       "      <td>85</td>\n",
       "      <td>92</td>\n",
       "      <td>78</td>\n",
       "      <td>84</td>\n",
       "      <td>90</td>\n",
       "    </tr>\n",
       "    <tr>\n",
       "      <th>1</th>\n",
       "      <td>2</td>\n",
       "      <td>Alice</td>\n",
       "      <td>15</td>\n",
       "      <td>F</td>\n",
       "      <td>79</td>\n",
       "      <td>95</td>\n",
       "      <td>88</td>\n",
       "      <td>92</td>\n",
       "      <td>87</td>\n",
       "    </tr>\n",
       "    <tr>\n",
       "      <th>2</th>\n",
       "      <td>3</td>\n",
       "      <td>Bob</td>\n",
       "      <td>16</td>\n",
       "      <td>M</td>\n",
       "      <td>90</td>\n",
       "      <td>85</td>\n",
       "      <td>86</td>\n",
       "      <td>88</td>\n",
       "      <td>95</td>\n",
       "    </tr>\n",
       "    <tr>\n",
       "      <th>3</th>\n",
       "      <td>4</td>\n",
       "      <td>Carol</td>\n",
       "      <td>15</td>\n",
       "      <td>F</td>\n",
       "      <td>77</td>\n",
       "      <td>89</td>\n",
       "      <td>90</td>\n",
       "      <td>81</td>\n",
       "      <td>85</td>\n",
       "    </tr>\n",
       "    <tr>\n",
       "      <th>4</th>\n",
       "      <td>5</td>\n",
       "      <td>David</td>\n",
       "      <td>16</td>\n",
       "      <td>M</td>\n",
       "      <td>92</td>\n",
       "      <td>80</td>\n",
       "      <td>79</td>\n",
       "      <td>85</td>\n",
       "      <td>92</td>\n",
       "    </tr>\n",
       "    <tr>\n",
       "      <th>5</th>\n",
       "      <td>6</td>\n",
       "      <td>Eve</td>\n",
       "      <td>15</td>\n",
       "      <td>F</td>\n",
       "      <td>85</td>\n",
       "      <td>87</td>\n",
       "      <td>84</td>\n",
       "      <td>89</td>\n",
       "      <td>90</td>\n",
       "    </tr>\n",
       "    <tr>\n",
       "      <th>6</th>\n",
       "      <td>7</td>\n",
       "      <td>Frank</td>\n",
       "      <td>16</td>\n",
       "      <td>M</td>\n",
       "      <td>75</td>\n",
       "      <td>90</td>\n",
       "      <td>82</td>\n",
       "      <td>78</td>\n",
       "      <td>88</td>\n",
       "    </tr>\n",
       "    <tr>\n",
       "      <th>7</th>\n",
       "      <td>8</td>\n",
       "      <td>Grace</td>\n",
       "      <td>15</td>\n",
       "      <td>F</td>\n",
       "      <td>80</td>\n",
       "      <td>92</td>\n",
       "      <td>85</td>\n",
       "      <td>90</td>\n",
       "      <td>91</td>\n",
       "    </tr>\n",
       "    <tr>\n",
       "      <th>8</th>\n",
       "      <td>9</td>\n",
       "      <td>Henry</td>\n",
       "      <td>16</td>\n",
       "      <td>M</td>\n",
       "      <td>88</td>\n",
       "      <td>83</td>\n",
       "      <td>87</td>\n",
       "      <td>86</td>\n",
       "      <td>85</td>\n",
       "    </tr>\n",
       "    <tr>\n",
       "      <th>9</th>\n",
       "      <td>10</td>\n",
       "      <td>Ivy</td>\n",
       "      <td>15</td>\n",
       "      <td>F</td>\n",
       "      <td>84</td>\n",
       "      <td>91</td>\n",
       "      <td>89</td>\n",
       "      <td>83</td>\n",
       "      <td>89</td>\n",
       "    </tr>\n",
       "  </tbody>\n",
       "</table>\n",
       "</div>"
      ],
      "text/plain": [
       "   StudentID   Name  Age Gender  Math  Science  English  History  \\\n",
       "0          1   John   16      M    85       92       78       84   \n",
       "1          2  Alice   15      F    79       95       88       92   \n",
       "2          3    Bob   16      M    90       85       86       88   \n",
       "3          4  Carol   15      F    77       89       90       81   \n",
       "4          5  David   16      M    92       80       79       85   \n",
       "5          6    Eve   15      F    85       87       84       89   \n",
       "6          7  Frank   16      M    75       90       82       78   \n",
       "7          8  Grace   15      F    80       92       85       90   \n",
       "8          9  Henry   16      M    88       83       87       86   \n",
       "9         10    Ivy   15      F    84       91       89       83   \n",
       "\n",
       "   Physical_Education  \n",
       "0                  90  \n",
       "1                  87  \n",
       "2                  95  \n",
       "3                  85  \n",
       "4                  92  \n",
       "5                  90  \n",
       "6                  88  \n",
       "7                  91  \n",
       "8                  85  \n",
       "9                  89  "
      ]
     },
     "execution_count": 250,
     "metadata": {},
     "output_type": "execute_result"
    }
   ],
   "source": [
    "import pandas as pd\n",
    "\n",
    "students_grades: pd.DataFrame = pd.read_csv(\"students_grades.csv\")\n",
    "students_grades"
   ]
  },
  {
   "cell_type": "markdown",
   "id": "e9f3410e-87db-4600-a684-7917cd6d39fb",
   "metadata": {},
   "source": [
    "### Display the first 5 rows of the DataFrame."
   ]
  },
  {
   "cell_type": "code",
   "execution_count": 253,
   "id": "f67974b9-ac4f-4513-9f41-b642002334b7",
   "metadata": {
    "scrolled": true
   },
   "outputs": [
    {
     "data": {
      "text/html": [
       "<div>\n",
       "<style scoped>\n",
       "    .dataframe tbody tr th:only-of-type {\n",
       "        vertical-align: middle;\n",
       "    }\n",
       "\n",
       "    .dataframe tbody tr th {\n",
       "        vertical-align: top;\n",
       "    }\n",
       "\n",
       "    .dataframe thead th {\n",
       "        text-align: right;\n",
       "    }\n",
       "</style>\n",
       "<table border=\"1\" class=\"dataframe\">\n",
       "  <thead>\n",
       "    <tr style=\"text-align: right;\">\n",
       "      <th></th>\n",
       "      <th>StudentID</th>\n",
       "      <th>Name</th>\n",
       "      <th>Age</th>\n",
       "      <th>Gender</th>\n",
       "      <th>Math</th>\n",
       "      <th>Science</th>\n",
       "      <th>English</th>\n",
       "      <th>History</th>\n",
       "      <th>Physical_Education</th>\n",
       "    </tr>\n",
       "  </thead>\n",
       "  <tbody>\n",
       "    <tr>\n",
       "      <th>0</th>\n",
       "      <td>1</td>\n",
       "      <td>John</td>\n",
       "      <td>16</td>\n",
       "      <td>M</td>\n",
       "      <td>85</td>\n",
       "      <td>92</td>\n",
       "      <td>78</td>\n",
       "      <td>84</td>\n",
       "      <td>90</td>\n",
       "    </tr>\n",
       "    <tr>\n",
       "      <th>1</th>\n",
       "      <td>2</td>\n",
       "      <td>Alice</td>\n",
       "      <td>15</td>\n",
       "      <td>F</td>\n",
       "      <td>79</td>\n",
       "      <td>95</td>\n",
       "      <td>88</td>\n",
       "      <td>92</td>\n",
       "      <td>87</td>\n",
       "    </tr>\n",
       "    <tr>\n",
       "      <th>2</th>\n",
       "      <td>3</td>\n",
       "      <td>Bob</td>\n",
       "      <td>16</td>\n",
       "      <td>M</td>\n",
       "      <td>90</td>\n",
       "      <td>85</td>\n",
       "      <td>86</td>\n",
       "      <td>88</td>\n",
       "      <td>95</td>\n",
       "    </tr>\n",
       "    <tr>\n",
       "      <th>3</th>\n",
       "      <td>4</td>\n",
       "      <td>Carol</td>\n",
       "      <td>15</td>\n",
       "      <td>F</td>\n",
       "      <td>77</td>\n",
       "      <td>89</td>\n",
       "      <td>90</td>\n",
       "      <td>81</td>\n",
       "      <td>85</td>\n",
       "    </tr>\n",
       "    <tr>\n",
       "      <th>4</th>\n",
       "      <td>5</td>\n",
       "      <td>David</td>\n",
       "      <td>16</td>\n",
       "      <td>M</td>\n",
       "      <td>92</td>\n",
       "      <td>80</td>\n",
       "      <td>79</td>\n",
       "      <td>85</td>\n",
       "      <td>92</td>\n",
       "    </tr>\n",
       "  </tbody>\n",
       "</table>\n",
       "</div>"
      ],
      "text/plain": [
       "   StudentID   Name  Age Gender  Math  Science  English  History  \\\n",
       "0          1   John   16      M    85       92       78       84   \n",
       "1          2  Alice   15      F    79       95       88       92   \n",
       "2          3    Bob   16      M    90       85       86       88   \n",
       "3          4  Carol   15      F    77       89       90       81   \n",
       "4          5  David   16      M    92       80       79       85   \n",
       "\n",
       "   Physical_Education  \n",
       "0                  90  \n",
       "1                  87  \n",
       "2                  95  \n",
       "3                  85  \n",
       "4                  92  "
      ]
     },
     "execution_count": 253,
     "metadata": {},
     "output_type": "execute_result"
    }
   ],
   "source": [
    "students_grades.head()"
   ]
  },
  {
   "cell_type": "markdown",
   "id": "074f1c79-3943-4568-b9f8-9ee71041c6ce",
   "metadata": {},
   "source": [
    "### Display the summary statistics of the DataFrame."
   ]
  },
  {
   "cell_type": "code",
   "execution_count": 256,
   "id": "ff6359a2-2eb2-4ad4-a5b6-24577cc80695",
   "metadata": {},
   "outputs": [
    {
     "data": {
      "text/html": [
       "<div>\n",
       "<style scoped>\n",
       "    .dataframe tbody tr th:only-of-type {\n",
       "        vertical-align: middle;\n",
       "    }\n",
       "\n",
       "    .dataframe tbody tr th {\n",
       "        vertical-align: top;\n",
       "    }\n",
       "\n",
       "    .dataframe thead th {\n",
       "        text-align: right;\n",
       "    }\n",
       "</style>\n",
       "<table border=\"1\" class=\"dataframe\">\n",
       "  <thead>\n",
       "    <tr style=\"text-align: right;\">\n",
       "      <th></th>\n",
       "      <th>StudentID</th>\n",
       "      <th>Age</th>\n",
       "      <th>Math</th>\n",
       "      <th>Science</th>\n",
       "      <th>English</th>\n",
       "      <th>History</th>\n",
       "      <th>Physical_Education</th>\n",
       "    </tr>\n",
       "  </thead>\n",
       "  <tbody>\n",
       "    <tr>\n",
       "      <th>count</th>\n",
       "      <td>10.00000</td>\n",
       "      <td>10.000000</td>\n",
       "      <td>10.000000</td>\n",
       "      <td>10.000000</td>\n",
       "      <td>10.000000</td>\n",
       "      <td>10.000000</td>\n",
       "      <td>10.000000</td>\n",
       "    </tr>\n",
       "    <tr>\n",
       "      <th>mean</th>\n",
       "      <td>5.50000</td>\n",
       "      <td>15.500000</td>\n",
       "      <td>83.500000</td>\n",
       "      <td>88.400000</td>\n",
       "      <td>84.800000</td>\n",
       "      <td>85.600000</td>\n",
       "      <td>89.200000</td>\n",
       "    </tr>\n",
       "    <tr>\n",
       "      <th>std</th>\n",
       "      <td>3.02765</td>\n",
       "      <td>0.527046</td>\n",
       "      <td>5.642104</td>\n",
       "      <td>4.623611</td>\n",
       "      <td>4.077036</td>\n",
       "      <td>4.299871</td>\n",
       "      <td>3.119829</td>\n",
       "    </tr>\n",
       "    <tr>\n",
       "      <th>min</th>\n",
       "      <td>1.00000</td>\n",
       "      <td>15.000000</td>\n",
       "      <td>75.000000</td>\n",
       "      <td>80.000000</td>\n",
       "      <td>78.000000</td>\n",
       "      <td>78.000000</td>\n",
       "      <td>85.000000</td>\n",
       "    </tr>\n",
       "    <tr>\n",
       "      <th>25%</th>\n",
       "      <td>3.25000</td>\n",
       "      <td>15.000000</td>\n",
       "      <td>79.250000</td>\n",
       "      <td>85.500000</td>\n",
       "      <td>82.500000</td>\n",
       "      <td>83.250000</td>\n",
       "      <td>87.250000</td>\n",
       "    </tr>\n",
       "    <tr>\n",
       "      <th>50%</th>\n",
       "      <td>5.50000</td>\n",
       "      <td>15.500000</td>\n",
       "      <td>84.500000</td>\n",
       "      <td>89.500000</td>\n",
       "      <td>85.500000</td>\n",
       "      <td>85.500000</td>\n",
       "      <td>89.500000</td>\n",
       "    </tr>\n",
       "    <tr>\n",
       "      <th>75%</th>\n",
       "      <td>7.75000</td>\n",
       "      <td>16.000000</td>\n",
       "      <td>87.250000</td>\n",
       "      <td>91.750000</td>\n",
       "      <td>87.750000</td>\n",
       "      <td>88.750000</td>\n",
       "      <td>90.750000</td>\n",
       "    </tr>\n",
       "    <tr>\n",
       "      <th>max</th>\n",
       "      <td>10.00000</td>\n",
       "      <td>16.000000</td>\n",
       "      <td>92.000000</td>\n",
       "      <td>95.000000</td>\n",
       "      <td>90.000000</td>\n",
       "      <td>92.000000</td>\n",
       "      <td>95.000000</td>\n",
       "    </tr>\n",
       "  </tbody>\n",
       "</table>\n",
       "</div>"
      ],
      "text/plain": [
       "       StudentID        Age       Math    Science    English    History  \\\n",
       "count   10.00000  10.000000  10.000000  10.000000  10.000000  10.000000   \n",
       "mean     5.50000  15.500000  83.500000  88.400000  84.800000  85.600000   \n",
       "std      3.02765   0.527046   5.642104   4.623611   4.077036   4.299871   \n",
       "min      1.00000  15.000000  75.000000  80.000000  78.000000  78.000000   \n",
       "25%      3.25000  15.000000  79.250000  85.500000  82.500000  83.250000   \n",
       "50%      5.50000  15.500000  84.500000  89.500000  85.500000  85.500000   \n",
       "75%      7.75000  16.000000  87.250000  91.750000  87.750000  88.750000   \n",
       "max     10.00000  16.000000  92.000000  95.000000  90.000000  92.000000   \n",
       "\n",
       "       Physical_Education  \n",
       "count           10.000000  \n",
       "mean            89.200000  \n",
       "std              3.119829  \n",
       "min             85.000000  \n",
       "25%             87.250000  \n",
       "50%             89.500000  \n",
       "75%             90.750000  \n",
       "max             95.000000  "
      ]
     },
     "execution_count": 256,
     "metadata": {},
     "output_type": "execute_result"
    }
   ],
   "source": [
    "students_grades.describe()"
   ]
  },
  {
   "cell_type": "markdown",
   "id": "5de8a1c6-c170-4cbc-b935-352949e28b83",
   "metadata": {},
   "source": [
    "### Display the column names of the DataFrame."
   ]
  },
  {
   "cell_type": "code",
   "execution_count": 259,
   "id": "62a83d29-3bfb-437b-928b-dbeb830d81b5",
   "metadata": {},
   "outputs": [
    {
     "data": {
      "text/plain": [
       "Index(['StudentID', 'Name', 'Age', 'Gender', 'Math', 'Science', 'English',\n",
       "       'History', 'Physical_Education'],\n",
       "      dtype='object')"
      ]
     },
     "execution_count": 259,
     "metadata": {},
     "output_type": "execute_result"
    }
   ],
   "source": [
    "students_grades.columns"
   ]
  },
  {
   "cell_type": "markdown",
   "id": "cbb58d8d-a55a-4654-9a6f-193a3b490261",
   "metadata": {},
   "source": [
    "### Count the number of male and female students."
   ]
  },
  {
   "cell_type": "code",
   "execution_count": 262,
   "id": "9cedc064-ddd7-40e1-a15e-873b2edecc51",
   "metadata": {},
   "outputs": [
    {
     "data": {
      "text/plain": [
       "Gender\n",
       "M    5\n",
       "F    5\n",
       "Name: count, dtype: int64"
      ]
     },
     "execution_count": 262,
     "metadata": {},
     "output_type": "execute_result"
    }
   ],
   "source": [
    "students_grades[\"Gender\"].value_counts()"
   ]
  },
  {
   "cell_type": "markdown",
   "id": "36c027ff-42d2-44ec-91e7-e0bcee2f3960",
   "metadata": {},
   "source": [
    "## 2. Filtering and Subsetting:"
   ]
  },
  {
   "cell_type": "markdown",
   "id": "3bad1e23-d450-4fe2-8a42-b8deb36c4017",
   "metadata": {},
   "source": [
    "### Filter the DataFrame to show only students who are 16 years old."
   ]
  },
  {
   "cell_type": "code",
   "execution_count": 266,
   "id": "c617d1ed-51bd-4b92-b989-208ba5eb0eb4",
   "metadata": {},
   "outputs": [
    {
     "data": {
      "text/html": [
       "<div>\n",
       "<style scoped>\n",
       "    .dataframe tbody tr th:only-of-type {\n",
       "        vertical-align: middle;\n",
       "    }\n",
       "\n",
       "    .dataframe tbody tr th {\n",
       "        vertical-align: top;\n",
       "    }\n",
       "\n",
       "    .dataframe thead th {\n",
       "        text-align: right;\n",
       "    }\n",
       "</style>\n",
       "<table border=\"1\" class=\"dataframe\">\n",
       "  <thead>\n",
       "    <tr style=\"text-align: right;\">\n",
       "      <th></th>\n",
       "      <th>StudentID</th>\n",
       "      <th>Name</th>\n",
       "      <th>Age</th>\n",
       "      <th>Gender</th>\n",
       "      <th>Math</th>\n",
       "      <th>Science</th>\n",
       "      <th>English</th>\n",
       "      <th>History</th>\n",
       "      <th>Physical_Education</th>\n",
       "    </tr>\n",
       "  </thead>\n",
       "  <tbody>\n",
       "    <tr>\n",
       "      <th>0</th>\n",
       "      <td>1</td>\n",
       "      <td>John</td>\n",
       "      <td>16</td>\n",
       "      <td>M</td>\n",
       "      <td>85</td>\n",
       "      <td>92</td>\n",
       "      <td>78</td>\n",
       "      <td>84</td>\n",
       "      <td>90</td>\n",
       "    </tr>\n",
       "    <tr>\n",
       "      <th>2</th>\n",
       "      <td>3</td>\n",
       "      <td>Bob</td>\n",
       "      <td>16</td>\n",
       "      <td>M</td>\n",
       "      <td>90</td>\n",
       "      <td>85</td>\n",
       "      <td>86</td>\n",
       "      <td>88</td>\n",
       "      <td>95</td>\n",
       "    </tr>\n",
       "    <tr>\n",
       "      <th>4</th>\n",
       "      <td>5</td>\n",
       "      <td>David</td>\n",
       "      <td>16</td>\n",
       "      <td>M</td>\n",
       "      <td>92</td>\n",
       "      <td>80</td>\n",
       "      <td>79</td>\n",
       "      <td>85</td>\n",
       "      <td>92</td>\n",
       "    </tr>\n",
       "    <tr>\n",
       "      <th>6</th>\n",
       "      <td>7</td>\n",
       "      <td>Frank</td>\n",
       "      <td>16</td>\n",
       "      <td>M</td>\n",
       "      <td>75</td>\n",
       "      <td>90</td>\n",
       "      <td>82</td>\n",
       "      <td>78</td>\n",
       "      <td>88</td>\n",
       "    </tr>\n",
       "    <tr>\n",
       "      <th>8</th>\n",
       "      <td>9</td>\n",
       "      <td>Henry</td>\n",
       "      <td>16</td>\n",
       "      <td>M</td>\n",
       "      <td>88</td>\n",
       "      <td>83</td>\n",
       "      <td>87</td>\n",
       "      <td>86</td>\n",
       "      <td>85</td>\n",
       "    </tr>\n",
       "  </tbody>\n",
       "</table>\n",
       "</div>"
      ],
      "text/plain": [
       "   StudentID   Name  Age Gender  Math  Science  English  History  \\\n",
       "0          1   John   16      M    85       92       78       84   \n",
       "2          3    Bob   16      M    90       85       86       88   \n",
       "4          5  David   16      M    92       80       79       85   \n",
       "6          7  Frank   16      M    75       90       82       78   \n",
       "8          9  Henry   16      M    88       83       87       86   \n",
       "\n",
       "   Physical_Education  \n",
       "0                  90  \n",
       "2                  95  \n",
       "4                  92  \n",
       "6                  88  \n",
       "8                  85  "
      ]
     },
     "execution_count": 266,
     "metadata": {},
     "output_type": "execute_result"
    }
   ],
   "source": [
    "is_equal_to_16 = students_grades[\"Age\"] == 16\n",
    "students_grades[is_equal_to_16]"
   ]
  },
  {
   "cell_type": "markdown",
   "id": "1271b1b1-c3ae-4df8-b1ce-b2687b4b51e4",
   "metadata": {},
   "source": [
    "### Filter the DataFrame to show only female students."
   ]
  },
  {
   "cell_type": "code",
   "execution_count": 269,
   "id": "32bcbc8e-f1ce-4ac9-9b56-9b226b29e7e3",
   "metadata": {},
   "outputs": [
    {
     "data": {
      "text/html": [
       "<div>\n",
       "<style scoped>\n",
       "    .dataframe tbody tr th:only-of-type {\n",
       "        vertical-align: middle;\n",
       "    }\n",
       "\n",
       "    .dataframe tbody tr th {\n",
       "        vertical-align: top;\n",
       "    }\n",
       "\n",
       "    .dataframe thead th {\n",
       "        text-align: right;\n",
       "    }\n",
       "</style>\n",
       "<table border=\"1\" class=\"dataframe\">\n",
       "  <thead>\n",
       "    <tr style=\"text-align: right;\">\n",
       "      <th></th>\n",
       "      <th>StudentID</th>\n",
       "      <th>Name</th>\n",
       "      <th>Age</th>\n",
       "      <th>Gender</th>\n",
       "      <th>Math</th>\n",
       "      <th>Science</th>\n",
       "      <th>English</th>\n",
       "      <th>History</th>\n",
       "      <th>Physical_Education</th>\n",
       "    </tr>\n",
       "  </thead>\n",
       "  <tbody>\n",
       "    <tr>\n",
       "      <th>1</th>\n",
       "      <td>2</td>\n",
       "      <td>Alice</td>\n",
       "      <td>15</td>\n",
       "      <td>F</td>\n",
       "      <td>79</td>\n",
       "      <td>95</td>\n",
       "      <td>88</td>\n",
       "      <td>92</td>\n",
       "      <td>87</td>\n",
       "    </tr>\n",
       "    <tr>\n",
       "      <th>3</th>\n",
       "      <td>4</td>\n",
       "      <td>Carol</td>\n",
       "      <td>15</td>\n",
       "      <td>F</td>\n",
       "      <td>77</td>\n",
       "      <td>89</td>\n",
       "      <td>90</td>\n",
       "      <td>81</td>\n",
       "      <td>85</td>\n",
       "    </tr>\n",
       "    <tr>\n",
       "      <th>5</th>\n",
       "      <td>6</td>\n",
       "      <td>Eve</td>\n",
       "      <td>15</td>\n",
       "      <td>F</td>\n",
       "      <td>85</td>\n",
       "      <td>87</td>\n",
       "      <td>84</td>\n",
       "      <td>89</td>\n",
       "      <td>90</td>\n",
       "    </tr>\n",
       "    <tr>\n",
       "      <th>7</th>\n",
       "      <td>8</td>\n",
       "      <td>Grace</td>\n",
       "      <td>15</td>\n",
       "      <td>F</td>\n",
       "      <td>80</td>\n",
       "      <td>92</td>\n",
       "      <td>85</td>\n",
       "      <td>90</td>\n",
       "      <td>91</td>\n",
       "    </tr>\n",
       "    <tr>\n",
       "      <th>9</th>\n",
       "      <td>10</td>\n",
       "      <td>Ivy</td>\n",
       "      <td>15</td>\n",
       "      <td>F</td>\n",
       "      <td>84</td>\n",
       "      <td>91</td>\n",
       "      <td>89</td>\n",
       "      <td>83</td>\n",
       "      <td>89</td>\n",
       "    </tr>\n",
       "  </tbody>\n",
       "</table>\n",
       "</div>"
      ],
      "text/plain": [
       "   StudentID   Name  Age Gender  Math  Science  English  History  \\\n",
       "1          2  Alice   15      F    79       95       88       92   \n",
       "3          4  Carol   15      F    77       89       90       81   \n",
       "5          6    Eve   15      F    85       87       84       89   \n",
       "7          8  Grace   15      F    80       92       85       90   \n",
       "9         10    Ivy   15      F    84       91       89       83   \n",
       "\n",
       "   Physical_Education  \n",
       "1                  87  \n",
       "3                  85  \n",
       "5                  90  \n",
       "7                  91  \n",
       "9                  89  "
      ]
     },
     "execution_count": 269,
     "metadata": {},
     "output_type": "execute_result"
    }
   ],
   "source": [
    "is_female =  students_grades[\"Gender\"] == \"F\"\n",
    "students_grades[is_female]"
   ]
  },
  {
   "cell_type": "markdown",
   "id": "77dd175f-fc1a-401f-b5cd-3c668a7f806f",
   "metadata": {},
   "source": [
    "### Filter the DataFrame to show students with Math scores above 85."
   ]
  },
  {
   "cell_type": "code",
   "execution_count": 272,
   "id": "d227b18a-c4f2-4117-94f2-8603b18c0660",
   "metadata": {},
   "outputs": [
    {
     "data": {
      "text/html": [
       "<div>\n",
       "<style scoped>\n",
       "    .dataframe tbody tr th:only-of-type {\n",
       "        vertical-align: middle;\n",
       "    }\n",
       "\n",
       "    .dataframe tbody tr th {\n",
       "        vertical-align: top;\n",
       "    }\n",
       "\n",
       "    .dataframe thead th {\n",
       "        text-align: right;\n",
       "    }\n",
       "</style>\n",
       "<table border=\"1\" class=\"dataframe\">\n",
       "  <thead>\n",
       "    <tr style=\"text-align: right;\">\n",
       "      <th></th>\n",
       "      <th>StudentID</th>\n",
       "      <th>Name</th>\n",
       "      <th>Age</th>\n",
       "      <th>Gender</th>\n",
       "      <th>Math</th>\n",
       "      <th>Science</th>\n",
       "      <th>English</th>\n",
       "      <th>History</th>\n",
       "      <th>Physical_Education</th>\n",
       "    </tr>\n",
       "  </thead>\n",
       "  <tbody>\n",
       "    <tr>\n",
       "      <th>2</th>\n",
       "      <td>3</td>\n",
       "      <td>Bob</td>\n",
       "      <td>16</td>\n",
       "      <td>M</td>\n",
       "      <td>90</td>\n",
       "      <td>85</td>\n",
       "      <td>86</td>\n",
       "      <td>88</td>\n",
       "      <td>95</td>\n",
       "    </tr>\n",
       "    <tr>\n",
       "      <th>4</th>\n",
       "      <td>5</td>\n",
       "      <td>David</td>\n",
       "      <td>16</td>\n",
       "      <td>M</td>\n",
       "      <td>92</td>\n",
       "      <td>80</td>\n",
       "      <td>79</td>\n",
       "      <td>85</td>\n",
       "      <td>92</td>\n",
       "    </tr>\n",
       "    <tr>\n",
       "      <th>8</th>\n",
       "      <td>9</td>\n",
       "      <td>Henry</td>\n",
       "      <td>16</td>\n",
       "      <td>M</td>\n",
       "      <td>88</td>\n",
       "      <td>83</td>\n",
       "      <td>87</td>\n",
       "      <td>86</td>\n",
       "      <td>85</td>\n",
       "    </tr>\n",
       "  </tbody>\n",
       "</table>\n",
       "</div>"
      ],
      "text/plain": [
       "   StudentID   Name  Age Gender  Math  Science  English  History  \\\n",
       "2          3    Bob   16      M    90       85       86       88   \n",
       "4          5  David   16      M    92       80       79       85   \n",
       "8          9  Henry   16      M    88       83       87       86   \n",
       "\n",
       "   Physical_Education  \n",
       "2                  95  \n",
       "4                  92  \n",
       "8                  85  "
      ]
     },
     "execution_count": 272,
     "metadata": {},
     "output_type": "execute_result"
    }
   ],
   "source": [
    "math_greater_than_85 = students_grades[\"Math\"] > 85\n",
    "students_grades[math_greater_than_85]"
   ]
  },
  {
   "cell_type": "markdown",
   "id": "5bbf1b5d-3fff-4d80-88e2-4cec0cb0832e",
   "metadata": {},
   "source": [
    "### Select the Name and Total_Grades columns for all students."
   ]
  },
  {
   "cell_type": "code",
   "execution_count": 275,
   "id": "d99df817-56a1-45bb-83a6-fd701592a274",
   "metadata": {},
   "outputs": [
    {
     "data": {
      "text/html": [
       "<div>\n",
       "<style scoped>\n",
       "    .dataframe tbody tr th:only-of-type {\n",
       "        vertical-align: middle;\n",
       "    }\n",
       "\n",
       "    .dataframe tbody tr th {\n",
       "        vertical-align: top;\n",
       "    }\n",
       "\n",
       "    .dataframe thead th {\n",
       "        text-align: right;\n",
       "    }\n",
       "</style>\n",
       "<table border=\"1\" class=\"dataframe\">\n",
       "  <thead>\n",
       "    <tr style=\"text-align: right;\">\n",
       "      <th></th>\n",
       "      <th>Name</th>\n",
       "      <th>Total_Grades</th>\n",
       "    </tr>\n",
       "  </thead>\n",
       "  <tbody>\n",
       "    <tr>\n",
       "      <th>0</th>\n",
       "      <td>John</td>\n",
       "      <td>446</td>\n",
       "    </tr>\n",
       "    <tr>\n",
       "      <th>1</th>\n",
       "      <td>Alice</td>\n",
       "      <td>458</td>\n",
       "    </tr>\n",
       "    <tr>\n",
       "      <th>2</th>\n",
       "      <td>Bob</td>\n",
       "      <td>463</td>\n",
       "    </tr>\n",
       "    <tr>\n",
       "      <th>3</th>\n",
       "      <td>Carol</td>\n",
       "      <td>441</td>\n",
       "    </tr>\n",
       "    <tr>\n",
       "      <th>4</th>\n",
       "      <td>David</td>\n",
       "      <td>449</td>\n",
       "    </tr>\n",
       "    <tr>\n",
       "      <th>5</th>\n",
       "      <td>Eve</td>\n",
       "      <td>456</td>\n",
       "    </tr>\n",
       "    <tr>\n",
       "      <th>6</th>\n",
       "      <td>Frank</td>\n",
       "      <td>436</td>\n",
       "    </tr>\n",
       "    <tr>\n",
       "      <th>7</th>\n",
       "      <td>Grace</td>\n",
       "      <td>461</td>\n",
       "    </tr>\n",
       "    <tr>\n",
       "      <th>8</th>\n",
       "      <td>Henry</td>\n",
       "      <td>454</td>\n",
       "    </tr>\n",
       "    <tr>\n",
       "      <th>9</th>\n",
       "      <td>Ivy</td>\n",
       "      <td>461</td>\n",
       "    </tr>\n",
       "  </tbody>\n",
       "</table>\n",
       "</div>"
      ],
      "text/plain": [
       "    Name  Total_Grades\n",
       "0   John           446\n",
       "1  Alice           458\n",
       "2    Bob           463\n",
       "3  Carol           441\n",
       "4  David           449\n",
       "5    Eve           456\n",
       "6  Frank           436\n",
       "7  Grace           461\n",
       "8  Henry           454\n",
       "9    Ivy           461"
      ]
     },
     "execution_count": 275,
     "metadata": {},
     "output_type": "execute_result"
    }
   ],
   "source": [
    "students_grades[\"Total_Grades\"] = students_grades.sum(axis='columns',numeric_only=True)\n",
    "total_grade_for_student = students_grades[[\"Name\",\"Total_Grades\"]]\n",
    "total_grade_for_student"
   ]
  },
  {
   "cell_type": "markdown",
   "id": "110680bd-b89a-480d-9c04-449c048cb182",
   "metadata": {},
   "source": [
    "### Calculate the average Math score for male and female students."
   ]
  },
  {
   "cell_type": "code",
   "execution_count": 244,
   "id": "3147d835-52c7-46ac-b43b-7232e67f96bd",
   "metadata": {},
   "outputs": [
    {
     "data": {
      "text/html": [
       "<div>\n",
       "<style scoped>\n",
       "    .dataframe tbody tr th:only-of-type {\n",
       "        vertical-align: middle;\n",
       "    }\n",
       "\n",
       "    .dataframe tbody tr th {\n",
       "        vertical-align: top;\n",
       "    }\n",
       "\n",
       "    .dataframe thead th {\n",
       "        text-align: right;\n",
       "    }\n",
       "</style>\n",
       "<table border=\"1\" class=\"dataframe\">\n",
       "  <thead>\n",
       "    <tr style=\"text-align: right;\">\n",
       "      <th></th>\n",
       "      <th>Math</th>\n",
       "    </tr>\n",
       "    <tr>\n",
       "      <th>Gender</th>\n",
       "      <th></th>\n",
       "    </tr>\n",
       "  </thead>\n",
       "  <tbody>\n",
       "    <tr>\n",
       "      <th>F</th>\n",
       "      <td>81.0</td>\n",
       "    </tr>\n",
       "    <tr>\n",
       "      <th>M</th>\n",
       "      <td>86.0</td>\n",
       "    </tr>\n",
       "  </tbody>\n",
       "</table>\n",
       "</div>"
      ],
      "text/plain": [
       "        Math\n",
       "Gender      \n",
       "F       81.0\n",
       "M       86.0"
      ]
     },
     "execution_count": 244,
     "metadata": {},
     "output_type": "execute_result"
    }
   ],
   "source": [
    "students_grades[[\"Math\",\"Gender\"]].groupby(\"Gender\").mean()"
   ]
  },
  {
   "cell_type": "markdown",
   "id": "d05b010a-6e72-4fa0-8c97-2a9efce90025",
   "metadata": {},
   "source": [
    "## 3. Aggregation and Grouping:"
   ]
  },
  {
   "cell_type": "markdown",
   "id": "a2fa5b1a-73f0-4073-a929-ba50f98a6808",
   "metadata": {},
   "source": [
    "### Calculate the average grade for each subject."
   ]
  },
  {
   "cell_type": "code",
   "execution_count": 189,
   "id": "d7da2b5f-330d-43db-8a50-b7f73b16c0c0",
   "metadata": {},
   "outputs": [
    {
     "data": {
      "text/plain": [
       "Math                  83.5\n",
       "Science               88.4\n",
       "English               84.8\n",
       "History               85.6\n",
       "Physical_Education    89.2\n",
       "dtype: float64"
      ]
     },
     "execution_count": 189,
     "metadata": {},
     "output_type": "execute_result"
    }
   ],
   "source": [
    "subject_scores = students_grades[[\"Math\",\"Science\",\"English\",\"History\",\"Physical_Education\"]]\n",
    "average_scores = subject_scores.mean()\n",
    "average_scores"
   ]
  },
  {
   "cell_type": "markdown",
   "id": "d624a83b-c0bb-4e7f-a3f8-ebf43d713919",
   "metadata": {},
   "source": [
    "### Calculate the average grade for each gender."
   ]
  },
  {
   "cell_type": "code",
   "execution_count": 192,
   "id": "58459b5c-48f2-4bb6-a506-e97544073630",
   "metadata": {},
   "outputs": [
    {
     "data": {
      "text/html": [
       "<div>\n",
       "<style scoped>\n",
       "    .dataframe tbody tr th:only-of-type {\n",
       "        vertical-align: middle;\n",
       "    }\n",
       "\n",
       "    .dataframe tbody tr th {\n",
       "        vertical-align: top;\n",
       "    }\n",
       "\n",
       "    .dataframe thead th {\n",
       "        text-align: right;\n",
       "    }\n",
       "</style>\n",
       "<table border=\"1\" class=\"dataframe\">\n",
       "  <thead>\n",
       "    <tr style=\"text-align: right;\">\n",
       "      <th></th>\n",
       "      <th>Math</th>\n",
       "      <th>Science</th>\n",
       "      <th>English</th>\n",
       "      <th>History</th>\n",
       "      <th>Physical_Education</th>\n",
       "    </tr>\n",
       "    <tr>\n",
       "      <th>Gender</th>\n",
       "      <th></th>\n",
       "      <th></th>\n",
       "      <th></th>\n",
       "      <th></th>\n",
       "      <th></th>\n",
       "    </tr>\n",
       "  </thead>\n",
       "  <tbody>\n",
       "    <tr>\n",
       "      <th>F</th>\n",
       "      <td>81.0</td>\n",
       "      <td>90.8</td>\n",
       "      <td>87.2</td>\n",
       "      <td>87.0</td>\n",
       "      <td>88.4</td>\n",
       "    </tr>\n",
       "    <tr>\n",
       "      <th>M</th>\n",
       "      <td>86.0</td>\n",
       "      <td>86.0</td>\n",
       "      <td>82.4</td>\n",
       "      <td>84.2</td>\n",
       "      <td>90.0</td>\n",
       "    </tr>\n",
       "  </tbody>\n",
       "</table>\n",
       "</div>"
      ],
      "text/plain": [
       "        Math  Science  English  History  Physical_Education\n",
       "Gender                                                     \n",
       "F       81.0     90.8     87.2     87.0                88.4\n",
       "M       86.0     86.0     82.4     84.2                90.0"
      ]
     },
     "execution_count": 192,
     "metadata": {},
     "output_type": "execute_result"
    }
   ],
   "source": [
    "students_grades[[\"Math\",\"Science\",\"English\",\"History\",\"Physical_Education\",\"Gender\"]].groupby(\"Gender\").mean(numeric_only=True)"
   ]
  },
  {
   "cell_type": "markdown",
   "id": "4e1c2db0-294b-4370-86f6-ddf1ec4b086b",
   "metadata": {},
   "source": [
    "### Calculate the total grades for each student (sum of all subjects)."
   ]
  },
  {
   "cell_type": "code",
   "execution_count": 195,
   "id": "a8d74fa4-8a14-4e48-8939-eb2389b2eabd",
   "metadata": {
    "scrolled": true
   },
   "outputs": [
    {
     "data": {
      "text/html": [
       "<div>\n",
       "<style scoped>\n",
       "    .dataframe tbody tr th:only-of-type {\n",
       "        vertical-align: middle;\n",
       "    }\n",
       "\n",
       "    .dataframe tbody tr th {\n",
       "        vertical-align: top;\n",
       "    }\n",
       "\n",
       "    .dataframe thead th {\n",
       "        text-align: right;\n",
       "    }\n",
       "</style>\n",
       "<table border=\"1\" class=\"dataframe\">\n",
       "  <thead>\n",
       "    <tr style=\"text-align: right;\">\n",
       "      <th></th>\n",
       "      <th>Name</th>\n",
       "      <th>Total_Grades</th>\n",
       "    </tr>\n",
       "  </thead>\n",
       "  <tbody>\n",
       "    <tr>\n",
       "      <th>0</th>\n",
       "      <td>John</td>\n",
       "      <td>446</td>\n",
       "    </tr>\n",
       "    <tr>\n",
       "      <th>1</th>\n",
       "      <td>Alice</td>\n",
       "      <td>458</td>\n",
       "    </tr>\n",
       "    <tr>\n",
       "      <th>2</th>\n",
       "      <td>Bob</td>\n",
       "      <td>463</td>\n",
       "    </tr>\n",
       "    <tr>\n",
       "      <th>3</th>\n",
       "      <td>Carol</td>\n",
       "      <td>441</td>\n",
       "    </tr>\n",
       "    <tr>\n",
       "      <th>4</th>\n",
       "      <td>David</td>\n",
       "      <td>449</td>\n",
       "    </tr>\n",
       "    <tr>\n",
       "      <th>5</th>\n",
       "      <td>Eve</td>\n",
       "      <td>456</td>\n",
       "    </tr>\n",
       "    <tr>\n",
       "      <th>6</th>\n",
       "      <td>Frank</td>\n",
       "      <td>436</td>\n",
       "    </tr>\n",
       "    <tr>\n",
       "      <th>7</th>\n",
       "      <td>Grace</td>\n",
       "      <td>461</td>\n",
       "    </tr>\n",
       "    <tr>\n",
       "      <th>8</th>\n",
       "      <td>Henry</td>\n",
       "      <td>454</td>\n",
       "    </tr>\n",
       "    <tr>\n",
       "      <th>9</th>\n",
       "      <td>Ivy</td>\n",
       "      <td>461</td>\n",
       "    </tr>\n",
       "  </tbody>\n",
       "</table>\n",
       "</div>"
      ],
      "text/plain": [
       "    Name  Total_Grades\n",
       "0   John           446\n",
       "1  Alice           458\n",
       "2    Bob           463\n",
       "3  Carol           441\n",
       "4  David           449\n",
       "5    Eve           456\n",
       "6  Frank           436\n",
       "7  Grace           461\n",
       "8  Henry           454\n",
       "9    Ivy           461"
      ]
     },
     "execution_count": 195,
     "metadata": {},
     "output_type": "execute_result"
    }
   ],
   "source": [
    "total_grade_for_student"
   ]
  },
  {
   "cell_type": "markdown",
   "id": "c3f1b8e4-4061-4ac9-b4aa-3ea456816217",
   "metadata": {},
   "source": [
    "### Find the student with the highest total grade."
   ]
  },
  {
   "cell_type": "code",
   "execution_count": 396,
   "id": "70d5897c-e0e1-4a6f-aff9-9baa2d9580a3",
   "metadata": {},
   "outputs": [
    {
     "data": {
      "text/plain": [
       "Name            Bob\n",
       "Total_Grades    463\n",
       "Name: 2, dtype: object"
      ]
     },
     "execution_count": 396,
     "metadata": {},
     "output_type": "execute_result"
    }
   ],
   "source": [
    "students_grades.loc[students_grades.idxmax()[\"Total_Grades\"],[\"Name\",\"Total_Grades\"]]"
   ]
  },
  {
   "cell_type": "markdown",
   "id": "d715ed84-cccb-441f-bb70-920721e0946e",
   "metadata": {},
   "source": [
    "### Calculate the average age of the students."
   ]
  },
  {
   "cell_type": "code",
   "execution_count": 201,
   "id": "9f28ae80-61b0-4bef-aaed-69c99bbe9a1f",
   "metadata": {},
   "outputs": [
    {
     "data": {
      "text/plain": [
       "15.5"
      ]
     },
     "execution_count": 201,
     "metadata": {},
     "output_type": "execute_result"
    }
   ],
   "source": [
    "students_grades.mean(numeric_only=True)[\"Age\"]"
   ]
  },
  {
   "cell_type": "markdown",
   "id": "63857c51-75ab-4414-a79d-51229d107bd8",
   "metadata": {},
   "source": [
    "## 4. Data Visualization:"
   ]
  },
  {
   "cell_type": "markdown",
   "id": "d58368c8-8324-4bf0-a46a-22b6d612134e",
   "metadata": {},
   "source": [
    "### Create a bar plot showing the average grade for each subject."
   ]
  },
  {
   "cell_type": "code",
   "execution_count": 205,
   "id": "3b0b36d1-1f69-42b5-b983-b47b891c0c08",
   "metadata": {},
   "outputs": [
    {
     "data": {
      "image/png": "[encoded data removed]",
      "text/plain": [
       "<Figure size 640x480 with 1 Axes>"
      ]
     },
     "metadata": {},
     "output_type": "display_data"
    }
   ],
   "source": [
    "import matplotlib.pyplot as plt\n",
    "\n",
    "average_scores.plot(kind=\"bar\",title=\"Average Grade for Each Subject\")\n",
    "plt.show()"
   ]
  },
  {
   "cell_type": "markdown",
   "id": "0237ee33-e5b9-455a-8133-e5e839c49a30",
   "metadata": {},
   "source": [
    "### Create a bar plot showing the total grades of each student."
   ]
  },
  {
   "cell_type": "code",
   "execution_count": 367,
   "id": "c60f8ddf-9866-4ccb-b069-34e0b22a2cc7",
   "metadata": {},
   "outputs": [
    {
     "data": {
      "image/png": "[encoded data removed]",
      "text/plain": [
       "<Figure size 640x480 with 1 Axes>"
      ]
     },
     "metadata": {},
     "output_type": "display_data"
    }
   ],
   "source": [
    "students_grades.plot(x=\"Name\",y=\"Total_Grades\",kind=\"bar\",title=\"Total Grades of Each Student\")\n",
    "plt.show()"
   ]
  },
  {
   "cell_type": "markdown",
   "id": "dfdf59ff-75bd-42f0-b740-85cbc6441f0a",
   "metadata": {},
   "source": [
    "### Create a histogram showing the distribution of Math scores."
   ]
  },
  {
   "cell_type": "code",
   "execution_count": 304,
   "id": "60c67a92-cce9-4706-9f8f-a247bf9b9902",
   "metadata": {},
   "outputs": [
    {
     "data": {
      "image/png": "[encoded data removed]",
      "text/plain": [
       "<Figure size 640x480 with 1 Axes>"
      ]
     },
     "metadata": {},
     "output_type": "display_data"
    }
   ],
   "source": [
    "students_grades[\"Math\"].hist()\n",
    "plt.show()"
   ]
  },
  {
   "cell_type": "markdown",
   "id": "d5bed94e-49fb-4bb2-ab7e-0924eba4fd9c",
   "metadata": {},
   "source": [
    "### Create a box plot to show the distribution of grades for each subject."
   ]
  },
  {
   "cell_type": "code",
   "execution_count": 365,
   "id": "66aa5ab3-cb00-4b9b-93fc-7ccaa041b19d",
   "metadata": {},
   "outputs": [
    {
     "data": {
      "image/png": "[encoded data removed]",
      "text/plain": [
       "<Figure size 640x480 with 1 Axes>"
      ]
     },
     "metadata": {},
     "output_type": "display_data"
    }
   ],
   "source": [
    "subject_scores.plot.box()\n",
    "plt.show()"
   ]
  },
  {
   "cell_type": "markdown",
   "id": "0ef8dd86-2f0e-462e-844e-75edfc218854",
   "metadata": {},
   "source": [
    "### Create a scatter plot showing the relationship between Math and Science scores."
   ]
  },
  {
   "cell_type": "code",
   "execution_count": 334,
   "id": "11abf1ee-dc0d-4db8-b8d2-79fbd0c51eaa",
   "metadata": {},
   "outputs": [
    {
     "data": {
      "image/png": "[encoded data removed]",
      "text/plain": [
       "<Figure size 640x480 with 1 Axes>"
      ]
     },
     "metadata": {},
     "output_type": "display_data"
    }
   ],
   "source": [
    "students_grades.plot(x=\"Math\", y=\"Science\", kind=\"scatter\")\n",
    "plt.show()"
   ]
  }
 ],
 "metadata": {
  "kernelspec": {
   "display_name": "Python 3 (ipykernel)",
   "language": "python",
   "name": "python3"
  },
  "language_info": {
   "codemirror_mode": {
    "name": "ipython",
    "version": 3
   },
   "file_extension": ".py",
   "mimetype": "text/x-python",
   "name": "python",
   "nbconvert_exporter": "python",
   "pygments_lexer": "ipython3",
   "version": "3.12.4"
  }
 },
 "nbformat": 4,
 "nbformat_minor": 5
}
