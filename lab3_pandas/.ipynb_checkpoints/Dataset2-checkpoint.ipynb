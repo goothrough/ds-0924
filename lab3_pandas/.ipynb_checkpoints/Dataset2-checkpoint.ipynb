{
 "cells": [
  {
   "cell_type": "markdown",
   "id": "10e5c812-82c9-4ca6-b6ca-5a482f9c4611",
   "metadata": {},
   "source": [
    "# Questions for Dataset 2:"
   ]
  },
  {
   "cell_type": "markdown",
   "id": "5b24898d-b159-4dfb-b95f-5678881f523a",
   "metadata": {},
   "source": [
    "## 1. Basic DataFrame Operations:"
   ]
  },
  {
   "cell_type": "markdown",
   "id": "85a840d7-568a-4cbb-9ae9-a9624ad711ba",
   "metadata": {},
   "source": [
    "### Load the dataset into a Pandas DataFrame."
   ]
  },
  {
   "cell_type": "code",
   "execution_count": 8,
   "id": "36734e04-dcab-49d0-b1e7-4478c26ecf3c",
   "metadata": {},
   "outputs": [
    {
     "data": {
      "text/html": [
       "<div>\n",
       "<style scoped>\n",
       "    .dataframe tbody tr th:only-of-type {\n",
       "        vertical-align: middle;\n",
       "    }\n",
       "\n",
       "    .dataframe tbody tr th {\n",
       "        vertical-align: top;\n",
       "    }\n",
       "\n",
       "    .dataframe thead th {\n",
       "        text-align: right;\n",
       "    }\n",
       "</style>\n",
       "<table border=\"1\" class=\"dataframe\">\n",
       "  <thead>\n",
       "    <tr style=\"text-align: right;\">\n",
       "      <th></th>\n",
       "      <th>EmployeeID</th>\n",
       "      <th>Name</th>\n",
       "      <th>Age</th>\n",
       "      <th>Department</th>\n",
       "      <th>Salary</th>\n",
       "      <th>YearsAtCompany</th>\n",
       "    </tr>\n",
       "  </thead>\n",
       "  <tbody>\n",
       "    <tr>\n",
       "      <th>0</th>\n",
       "      <td>101</td>\n",
       "      <td>John Smith</td>\n",
       "      <td>28</td>\n",
       "      <td>Sales</td>\n",
       "      <td>60000</td>\n",
       "      <td>3</td>\n",
       "    </tr>\n",
       "    <tr>\n",
       "      <th>1</th>\n",
       "      <td>102</td>\n",
       "      <td>Jane Doe</td>\n",
       "      <td>34</td>\n",
       "      <td>Marketing</td>\n",
       "      <td>80000</td>\n",
       "      <td>7</td>\n",
       "    </tr>\n",
       "    <tr>\n",
       "      <th>2</th>\n",
       "      <td>103</td>\n",
       "      <td>Sam Johnson</td>\n",
       "      <td>45</td>\n",
       "      <td>HR</td>\n",
       "      <td>75000</td>\n",
       "      <td>10</td>\n",
       "    </tr>\n",
       "    <tr>\n",
       "      <th>3</th>\n",
       "      <td>104</td>\n",
       "      <td>Susan Lee</td>\n",
       "      <td>39</td>\n",
       "      <td>Finance</td>\n",
       "      <td>90000</td>\n",
       "      <td>5</td>\n",
       "    </tr>\n",
       "    <tr>\n",
       "      <th>4</th>\n",
       "      <td>105</td>\n",
       "      <td>Peter Brown</td>\n",
       "      <td>50</td>\n",
       "      <td>IT</td>\n",
       "      <td>95000</td>\n",
       "      <td>15</td>\n",
       "    </tr>\n",
       "    <tr>\n",
       "      <th>5</th>\n",
       "      <td>106</td>\n",
       "      <td>Linda Green</td>\n",
       "      <td>29</td>\n",
       "      <td>Sales</td>\n",
       "      <td>62000</td>\n",
       "      <td>4</td>\n",
       "    </tr>\n",
       "    <tr>\n",
       "      <th>6</th>\n",
       "      <td>107</td>\n",
       "      <td>David White</td>\n",
       "      <td>32</td>\n",
       "      <td>Marketing</td>\n",
       "      <td>72000</td>\n",
       "      <td>6</td>\n",
       "    </tr>\n",
       "    <tr>\n",
       "      <th>7</th>\n",
       "      <td>108</td>\n",
       "      <td>Karen Black</td>\n",
       "      <td>41</td>\n",
       "      <td>HR</td>\n",
       "      <td>78000</td>\n",
       "      <td>11</td>\n",
       "    </tr>\n",
       "    <tr>\n",
       "      <th>8</th>\n",
       "      <td>109</td>\n",
       "      <td>James Blue</td>\n",
       "      <td>38</td>\n",
       "      <td>Finance</td>\n",
       "      <td>85000</td>\n",
       "      <td>8</td>\n",
       "    </tr>\n",
       "    <tr>\n",
       "      <th>9</th>\n",
       "      <td>110</td>\n",
       "      <td>Alice Purple</td>\n",
       "      <td>27</td>\n",
       "      <td>IT</td>\n",
       "      <td>70000</td>\n",
       "      <td>2</td>\n",
       "    </tr>\n",
       "  </tbody>\n",
       "</table>\n",
       "</div>"
      ],
      "text/plain": [
       "   EmployeeID          Name  Age Department  Salary  YearsAtCompany\n",
       "0         101    John Smith   28      Sales   60000               3\n",
       "1         102      Jane Doe   34  Marketing   80000               7\n",
       "2         103   Sam Johnson   45         HR   75000              10\n",
       "3         104     Susan Lee   39    Finance   90000               5\n",
       "4         105   Peter Brown   50         IT   95000              15\n",
       "5         106   Linda Green   29      Sales   62000               4\n",
       "6         107   David White   32  Marketing   72000               6\n",
       "7         108   Karen Black   41         HR   78000              11\n",
       "8         109    James Blue   38    Finance   85000               8\n",
       "9         110  Alice Purple   27         IT   70000               2"
      ]
     },
     "execution_count": 8,
     "metadata": {},
     "output_type": "execute_result"
    }
   ],
   "source": [
    "import pandas as pd\n",
    "\n",
    "employees: pd.DataFrame = pd.read_csv(\"employee_data.csv\")\n",
    "employees"
   ]
  },
  {
   "cell_type": "markdown",
   "id": "2f1b4add-f9c8-4de1-bc1e-8ad7f5989fea",
   "metadata": {},
   "source": [
    "### Display the first 5 rows of the DataFrame."
   ]
  },
  {
   "cell_type": "code",
   "execution_count": 13,
   "id": "864f738f-4f33-4183-a833-041187a101c7",
   "metadata": {},
   "outputs": [
    {
     "data": {
      "text/html": [
       "<div>\n",
       "<style scoped>\n",
       "    .dataframe tbody tr th:only-of-type {\n",
       "        vertical-align: middle;\n",
       "    }\n",
       "\n",
       "    .dataframe tbody tr th {\n",
       "        vertical-align: top;\n",
       "    }\n",
       "\n",
       "    .dataframe thead th {\n",
       "        text-align: right;\n",
       "    }\n",
       "</style>\n",
       "<table border=\"1\" class=\"dataframe\">\n",
       "  <thead>\n",
       "    <tr style=\"text-align: right;\">\n",
       "      <th></th>\n",
       "      <th>EmployeeID</th>\n",
       "      <th>Name</th>\n",
       "      <th>Age</th>\n",
       "      <th>Department</th>\n",
       "      <th>Salary</th>\n",
       "      <th>YearsAtCompany</th>\n",
       "    </tr>\n",
       "  </thead>\n",
       "  <tbody>\n",
       "    <tr>\n",
       "      <th>0</th>\n",
       "      <td>101</td>\n",
       "      <td>John Smith</td>\n",
       "      <td>28</td>\n",
       "      <td>Sales</td>\n",
       "      <td>60000</td>\n",
       "      <td>3</td>\n",
       "    </tr>\n",
       "    <tr>\n",
       "      <th>1</th>\n",
       "      <td>102</td>\n",
       "      <td>Jane Doe</td>\n",
       "      <td>34</td>\n",
       "      <td>Marketing</td>\n",
       "      <td>80000</td>\n",
       "      <td>7</td>\n",
       "    </tr>\n",
       "    <tr>\n",
       "      <th>2</th>\n",
       "      <td>103</td>\n",
       "      <td>Sam Johnson</td>\n",
       "      <td>45</td>\n",
       "      <td>HR</td>\n",
       "      <td>75000</td>\n",
       "      <td>10</td>\n",
       "    </tr>\n",
       "    <tr>\n",
       "      <th>3</th>\n",
       "      <td>104</td>\n",
       "      <td>Susan Lee</td>\n",
       "      <td>39</td>\n",
       "      <td>Finance</td>\n",
       "      <td>90000</td>\n",
       "      <td>5</td>\n",
       "    </tr>\n",
       "    <tr>\n",
       "      <th>4</th>\n",
       "      <td>105</td>\n",
       "      <td>Peter Brown</td>\n",
       "      <td>50</td>\n",
       "      <td>IT</td>\n",
       "      <td>95000</td>\n",
       "      <td>15</td>\n",
       "    </tr>\n",
       "  </tbody>\n",
       "</table>\n",
       "</div>"
      ],
      "text/plain": [
       "   EmployeeID         Name  Age Department  Salary  YearsAtCompany\n",
       "0         101   John Smith   28      Sales   60000               3\n",
       "1         102     Jane Doe   34  Marketing   80000               7\n",
       "2         103  Sam Johnson   45         HR   75000              10\n",
       "3         104    Susan Lee   39    Finance   90000               5\n",
       "4         105  Peter Brown   50         IT   95000              15"
      ]
     },
     "execution_count": 13,
     "metadata": {},
     "output_type": "execute_result"
    }
   ],
   "source": [
    "employees.head()"
   ]
  },
  {
   "cell_type": "markdown",
   "id": "8f641539-4829-4771-9ad0-50afdb1fe4a2",
   "metadata": {},
   "source": [
    "### Display the summary statistics of the DataFrame."
   ]
  },
  {
   "cell_type": "code",
   "execution_count": 16,
   "id": "7a953d43-c611-4585-8de4-17b105a06bba",
   "metadata": {},
   "outputs": [
    {
     "data": {
      "text/html": [
       "<div>\n",
       "<style scoped>\n",
       "    .dataframe tbody tr th:only-of-type {\n",
       "        vertical-align: middle;\n",
       "    }\n",
       "\n",
       "    .dataframe tbody tr th {\n",
       "        vertical-align: top;\n",
       "    }\n",
       "\n",
       "    .dataframe thead th {\n",
       "        text-align: right;\n",
       "    }\n",
       "</style>\n",
       "<table border=\"1\" class=\"dataframe\">\n",
       "  <thead>\n",
       "    <tr style=\"text-align: right;\">\n",
       "      <th></th>\n",
       "      <th>EmployeeID</th>\n",
       "      <th>Age</th>\n",
       "      <th>Salary</th>\n",
       "      <th>YearsAtCompany</th>\n",
       "    </tr>\n",
       "  </thead>\n",
       "  <tbody>\n",
       "    <tr>\n",
       "      <th>count</th>\n",
       "      <td>10.00000</td>\n",
       "      <td>10.000000</td>\n",
       "      <td>10.00000</td>\n",
       "      <td>10.000000</td>\n",
       "    </tr>\n",
       "    <tr>\n",
       "      <th>mean</th>\n",
       "      <td>105.50000</td>\n",
       "      <td>36.300000</td>\n",
       "      <td>76700.00000</td>\n",
       "      <td>7.100000</td>\n",
       "    </tr>\n",
       "    <tr>\n",
       "      <th>std</th>\n",
       "      <td>3.02765</td>\n",
       "      <td>7.660142</td>\n",
       "      <td>11343.62278</td>\n",
       "      <td>4.012481</td>\n",
       "    </tr>\n",
       "    <tr>\n",
       "      <th>min</th>\n",
       "      <td>101.00000</td>\n",
       "      <td>27.000000</td>\n",
       "      <td>60000.00000</td>\n",
       "      <td>2.000000</td>\n",
       "    </tr>\n",
       "    <tr>\n",
       "      <th>25%</th>\n",
       "      <td>103.25000</td>\n",
       "      <td>29.750000</td>\n",
       "      <td>70500.00000</td>\n",
       "      <td>4.250000</td>\n",
       "    </tr>\n",
       "    <tr>\n",
       "      <th>50%</th>\n",
       "      <td>105.50000</td>\n",
       "      <td>36.000000</td>\n",
       "      <td>76500.00000</td>\n",
       "      <td>6.500000</td>\n",
       "    </tr>\n",
       "    <tr>\n",
       "      <th>75%</th>\n",
       "      <td>107.75000</td>\n",
       "      <td>40.500000</td>\n",
       "      <td>83750.00000</td>\n",
       "      <td>9.500000</td>\n",
       "    </tr>\n",
       "    <tr>\n",
       "      <th>max</th>\n",
       "      <td>110.00000</td>\n",
       "      <td>50.000000</td>\n",
       "      <td>95000.00000</td>\n",
       "      <td>15.000000</td>\n",
       "    </tr>\n",
       "  </tbody>\n",
       "</table>\n",
       "</div>"
      ],
      "text/plain": [
       "       EmployeeID        Age       Salary  YearsAtCompany\n",
       "count    10.00000  10.000000     10.00000       10.000000\n",
       "mean    105.50000  36.300000  76700.00000        7.100000\n",
       "std       3.02765   7.660142  11343.62278        4.012481\n",
       "min     101.00000  27.000000  60000.00000        2.000000\n",
       "25%     103.25000  29.750000  70500.00000        4.250000\n",
       "50%     105.50000  36.000000  76500.00000        6.500000\n",
       "75%     107.75000  40.500000  83750.00000        9.500000\n",
       "max     110.00000  50.000000  95000.00000       15.000000"
      ]
     },
     "execution_count": 16,
     "metadata": {},
     "output_type": "execute_result"
    }
   ],
   "source": [
    "employees.describe()"
   ]
  },
  {
   "cell_type": "markdown",
   "id": "74a2aad8-193e-46ad-880a-53a7de7d5d18",
   "metadata": {},
   "source": [
    "### Display the column names of the DataFrame."
   ]
  },
  {
   "cell_type": "code",
   "execution_count": 19,
   "id": "4be37d29-e8df-4f8d-bca5-aba2a70fcae9",
   "metadata": {},
   "outputs": [
    {
     "data": {
      "text/plain": [
       "Index(['EmployeeID', 'Name', 'Age', 'Department', 'Salary', 'YearsAtCompany'], dtype='object')"
      ]
     },
     "execution_count": 19,
     "metadata": {},
     "output_type": "execute_result"
    }
   ],
   "source": [
    "employees.columns"
   ]
  },
  {
   "cell_type": "markdown",
   "id": "4716edbf-fb17-4f8b-8109-7c9ded458e86",
   "metadata": {},
   "source": [
    "### Count the number of employees in each department."
   ]
  },
  {
   "cell_type": "code",
   "execution_count": 23,
   "id": "0d643a1a-b0cb-4af0-aa51-7848dd486024",
   "metadata": {},
   "outputs": [
    {
     "data": {
      "text/plain": [
       "Department\n",
       "Sales        2\n",
       "Marketing    2\n",
       "HR           2\n",
       "Finance      2\n",
       "IT           2\n",
       "Name: count, dtype: int64"
      ]
     },
     "execution_count": 23,
     "metadata": {},
     "output_type": "execute_result"
    }
   ],
   "source": [
    "employees[\"Department\"].value_counts()"
   ]
  },
  {
   "cell_type": "markdown",
   "id": "05db8827-91dd-4da1-b33f-0f500aa8c1f9",
   "metadata": {},
   "source": [
    "## 2. Filtering and Subsetting:"
   ]
  },
  {
   "cell_type": "markdown",
   "id": "3c3227b5-8eb4-4b5a-8fd2-e47de09911d0",
   "metadata": {},
   "source": [
    "### Filter the DataFrame to show only employees who are older than 40."
   ]
  },
  {
   "cell_type": "code",
   "execution_count": 28,
   "id": "7bf1dbdf-6935-46d9-ba47-8276ce52e530",
   "metadata": {},
   "outputs": [
    {
     "data": {
      "text/html": [
       "<div>\n",
       "<style scoped>\n",
       "    .dataframe tbody tr th:only-of-type {\n",
       "        vertical-align: middle;\n",
       "    }\n",
       "\n",
       "    .dataframe tbody tr th {\n",
       "        vertical-align: top;\n",
       "    }\n",
       "\n",
       "    .dataframe thead th {\n",
       "        text-align: right;\n",
       "    }\n",
       "</style>\n",
       "<table border=\"1\" class=\"dataframe\">\n",
       "  <thead>\n",
       "    <tr style=\"text-align: right;\">\n",
       "      <th></th>\n",
       "      <th>EmployeeID</th>\n",
       "      <th>Name</th>\n",
       "      <th>Age</th>\n",
       "      <th>Department</th>\n",
       "      <th>Salary</th>\n",
       "      <th>YearsAtCompany</th>\n",
       "    </tr>\n",
       "  </thead>\n",
       "  <tbody>\n",
       "    <tr>\n",
       "      <th>2</th>\n",
       "      <td>103</td>\n",
       "      <td>Sam Johnson</td>\n",
       "      <td>45</td>\n",
       "      <td>HR</td>\n",
       "      <td>75000</td>\n",
       "      <td>10</td>\n",
       "    </tr>\n",
       "    <tr>\n",
       "      <th>4</th>\n",
       "      <td>105</td>\n",
       "      <td>Peter Brown</td>\n",
       "      <td>50</td>\n",
       "      <td>IT</td>\n",
       "      <td>95000</td>\n",
       "      <td>15</td>\n",
       "    </tr>\n",
       "    <tr>\n",
       "      <th>7</th>\n",
       "      <td>108</td>\n",
       "      <td>Karen Black</td>\n",
       "      <td>41</td>\n",
       "      <td>HR</td>\n",
       "      <td>78000</td>\n",
       "      <td>11</td>\n",
       "    </tr>\n",
       "  </tbody>\n",
       "</table>\n",
       "</div>"
      ],
      "text/plain": [
       "   EmployeeID         Name  Age Department  Salary  YearsAtCompany\n",
       "2         103  Sam Johnson   45         HR   75000              10\n",
       "4         105  Peter Brown   50         IT   95000              15\n",
       "7         108  Karen Black   41         HR   78000              11"
      ]
     },
     "execution_count": 28,
     "metadata": {},
     "output_type": "execute_result"
    }
   ],
   "source": [
    "is_older_than_40 = employees[\"Age\"] > 40\n",
    "employees[is_older_than_40]"
   ]
  },
  {
   "cell_type": "markdown",
   "id": "59f631dc-8f0a-4d49-8625-19c9d1577543",
   "metadata": {},
   "source": [
    "### Filter the DataFrame to show only employees in the 'IT' department."
   ]
  },
  {
   "cell_type": "code",
   "execution_count": 32,
   "id": "e93bec14-8cc7-4dce-baae-17583a9a91fc",
   "metadata": {},
   "outputs": [
    {
     "data": {
      "text/html": [
       "<div>\n",
       "<style scoped>\n",
       "    .dataframe tbody tr th:only-of-type {\n",
       "        vertical-align: middle;\n",
       "    }\n",
       "\n",
       "    .dataframe tbody tr th {\n",
       "        vertical-align: top;\n",
       "    }\n",
       "\n",
       "    .dataframe thead th {\n",
       "        text-align: right;\n",
       "    }\n",
       "</style>\n",
       "<table border=\"1\" class=\"dataframe\">\n",
       "  <thead>\n",
       "    <tr style=\"text-align: right;\">\n",
       "      <th></th>\n",
       "      <th>EmployeeID</th>\n",
       "      <th>Name</th>\n",
       "      <th>Age</th>\n",
       "      <th>Department</th>\n",
       "      <th>Salary</th>\n",
       "      <th>YearsAtCompany</th>\n",
       "    </tr>\n",
       "  </thead>\n",
       "  <tbody>\n",
       "    <tr>\n",
       "      <th>4</th>\n",
       "      <td>105</td>\n",
       "      <td>Peter Brown</td>\n",
       "      <td>50</td>\n",
       "      <td>IT</td>\n",
       "      <td>95000</td>\n",
       "      <td>15</td>\n",
       "    </tr>\n",
       "    <tr>\n",
       "      <th>9</th>\n",
       "      <td>110</td>\n",
       "      <td>Alice Purple</td>\n",
       "      <td>27</td>\n",
       "      <td>IT</td>\n",
       "      <td>70000</td>\n",
       "      <td>2</td>\n",
       "    </tr>\n",
       "  </tbody>\n",
       "</table>\n",
       "</div>"
      ],
      "text/plain": [
       "   EmployeeID          Name  Age Department  Salary  YearsAtCompany\n",
       "4         105   Peter Brown   50         IT   95000              15\n",
       "9         110  Alice Purple   27         IT   70000               2"
      ]
     },
     "execution_count": 32,
     "metadata": {},
     "output_type": "execute_result"
    }
   ],
   "source": [
    "is_in_IT = employees[\"Department\"] == \"IT\"\n",
    "employees[is_in_IT]"
   ]
  },
  {
   "cell_type": "markdown",
   "id": "62a4bb09-ba27-4942-ae0b-b30abc9d3b75",
   "metadata": {},
   "source": [
    "### Filter the DataFrame to show employees with a salary above 75000."
   ]
  },
  {
   "cell_type": "code",
   "execution_count": 37,
   "id": "c15b2a6e-ba0e-41b2-b8e3-8b4761c3085e",
   "metadata": {},
   "outputs": [
    {
     "data": {
      "text/html": [
       "<div>\n",
       "<style scoped>\n",
       "    .dataframe tbody tr th:only-of-type {\n",
       "        vertical-align: middle;\n",
       "    }\n",
       "\n",
       "    .dataframe tbody tr th {\n",
       "        vertical-align: top;\n",
       "    }\n",
       "\n",
       "    .dataframe thead th {\n",
       "        text-align: right;\n",
       "    }\n",
       "</style>\n",
       "<table border=\"1\" class=\"dataframe\">\n",
       "  <thead>\n",
       "    <tr style=\"text-align: right;\">\n",
       "      <th></th>\n",
       "      <th>EmployeeID</th>\n",
       "      <th>Name</th>\n",
       "      <th>Age</th>\n",
       "      <th>Department</th>\n",
       "      <th>Salary</th>\n",
       "      <th>YearsAtCompany</th>\n",
       "    </tr>\n",
       "  </thead>\n",
       "  <tbody>\n",
       "    <tr>\n",
       "      <th>1</th>\n",
       "      <td>102</td>\n",
       "      <td>Jane Doe</td>\n",
       "      <td>34</td>\n",
       "      <td>Marketing</td>\n",
       "      <td>80000</td>\n",
       "      <td>7</td>\n",
       "    </tr>\n",
       "    <tr>\n",
       "      <th>3</th>\n",
       "      <td>104</td>\n",
       "      <td>Susan Lee</td>\n",
       "      <td>39</td>\n",
       "      <td>Finance</td>\n",
       "      <td>90000</td>\n",
       "      <td>5</td>\n",
       "    </tr>\n",
       "    <tr>\n",
       "      <th>4</th>\n",
       "      <td>105</td>\n",
       "      <td>Peter Brown</td>\n",
       "      <td>50</td>\n",
       "      <td>IT</td>\n",
       "      <td>95000</td>\n",
       "      <td>15</td>\n",
       "    </tr>\n",
       "    <tr>\n",
       "      <th>7</th>\n",
       "      <td>108</td>\n",
       "      <td>Karen Black</td>\n",
       "      <td>41</td>\n",
       "      <td>HR</td>\n",
       "      <td>78000</td>\n",
       "      <td>11</td>\n",
       "    </tr>\n",
       "    <tr>\n",
       "      <th>8</th>\n",
       "      <td>109</td>\n",
       "      <td>James Blue</td>\n",
       "      <td>38</td>\n",
       "      <td>Finance</td>\n",
       "      <td>85000</td>\n",
       "      <td>8</td>\n",
       "    </tr>\n",
       "  </tbody>\n",
       "</table>\n",
       "</div>"
      ],
      "text/plain": [
       "   EmployeeID         Name  Age Department  Salary  YearsAtCompany\n",
       "1         102     Jane Doe   34  Marketing   80000               7\n",
       "3         104    Susan Lee   39    Finance   90000               5\n",
       "4         105  Peter Brown   50         IT   95000              15\n",
       "7         108  Karen Black   41         HR   78000              11\n",
       "8         109   James Blue   38    Finance   85000               8"
      ]
     },
     "execution_count": 37,
     "metadata": {},
     "output_type": "execute_result"
    }
   ],
   "source": [
    "is_salary_above_75000 = employees[\"Salary\"] > 75000\n",
    "employees[is_salary_above_75000]"
   ]
  },
  {
   "cell_type": "markdown",
   "id": "ba868010-a5bc-4037-b0c6-defe4c523c17",
   "metadata": {},
   "source": [
    "### Select the Name and Salary columns for all employees."
   ]
  },
  {
   "cell_type": "code",
   "execution_count": 41,
   "id": "7af38206-6732-4609-8d4c-65e3d0ccee31",
   "metadata": {},
   "outputs": [
    {
     "data": {
      "text/html": [
       "<div>\n",
       "<style scoped>\n",
       "    .dataframe tbody tr th:only-of-type {\n",
       "        vertical-align: middle;\n",
       "    }\n",
       "\n",
       "    .dataframe tbody tr th {\n",
       "        vertical-align: top;\n",
       "    }\n",
       "\n",
       "    .dataframe thead th {\n",
       "        text-align: right;\n",
       "    }\n",
       "</style>\n",
       "<table border=\"1\" class=\"dataframe\">\n",
       "  <thead>\n",
       "    <tr style=\"text-align: right;\">\n",
       "      <th></th>\n",
       "      <th>Name</th>\n",
       "      <th>Salary</th>\n",
       "    </tr>\n",
       "  </thead>\n",
       "  <tbody>\n",
       "    <tr>\n",
       "      <th>0</th>\n",
       "      <td>John Smith</td>\n",
       "      <td>60000</td>\n",
       "    </tr>\n",
       "    <tr>\n",
       "      <th>1</th>\n",
       "      <td>Jane Doe</td>\n",
       "      <td>80000</td>\n",
       "    </tr>\n",
       "    <tr>\n",
       "      <th>2</th>\n",
       "      <td>Sam Johnson</td>\n",
       "      <td>75000</td>\n",
       "    </tr>\n",
       "    <tr>\n",
       "      <th>3</th>\n",
       "      <td>Susan Lee</td>\n",
       "      <td>90000</td>\n",
       "    </tr>\n",
       "    <tr>\n",
       "      <th>4</th>\n",
       "      <td>Peter Brown</td>\n",
       "      <td>95000</td>\n",
       "    </tr>\n",
       "    <tr>\n",
       "      <th>5</th>\n",
       "      <td>Linda Green</td>\n",
       "      <td>62000</td>\n",
       "    </tr>\n",
       "    <tr>\n",
       "      <th>6</th>\n",
       "      <td>David White</td>\n",
       "      <td>72000</td>\n",
       "    </tr>\n",
       "    <tr>\n",
       "      <th>7</th>\n",
       "      <td>Karen Black</td>\n",
       "      <td>78000</td>\n",
       "    </tr>\n",
       "    <tr>\n",
       "      <th>8</th>\n",
       "      <td>James Blue</td>\n",
       "      <td>85000</td>\n",
       "    </tr>\n",
       "    <tr>\n",
       "      <th>9</th>\n",
       "      <td>Alice Purple</td>\n",
       "      <td>70000</td>\n",
       "    </tr>\n",
       "  </tbody>\n",
       "</table>\n",
       "</div>"
      ],
      "text/plain": [
       "           Name  Salary\n",
       "0    John Smith   60000\n",
       "1      Jane Doe   80000\n",
       "2   Sam Johnson   75000\n",
       "3     Susan Lee   90000\n",
       "4   Peter Brown   95000\n",
       "5   Linda Green   62000\n",
       "6   David White   72000\n",
       "7   Karen Black   78000\n",
       "8    James Blue   85000\n",
       "9  Alice Purple   70000"
      ]
     },
     "execution_count": 41,
     "metadata": {},
     "output_type": "execute_result"
    }
   ],
   "source": [
    "employees[[\"Name\",\"Salary\"]]"
   ]
  },
  {
   "cell_type": "markdown",
   "id": "e5b83062-8ff4-45ef-8a55-50af5d2f3c3e",
   "metadata": {},
   "source": [
    "### Calculate the average salary for each department."
   ]
  },
  {
   "cell_type": "code",
   "execution_count": 81,
   "id": "4c15bf21-3d4f-47e9-973c-d2f580e777f5",
   "metadata": {},
   "outputs": [
    {
     "data": {
      "text/html": [
       "<div>\n",
       "<style scoped>\n",
       "    .dataframe tbody tr th:only-of-type {\n",
       "        vertical-align: middle;\n",
       "    }\n",
       "\n",
       "    .dataframe tbody tr th {\n",
       "        vertical-align: top;\n",
       "    }\n",
       "\n",
       "    .dataframe thead th {\n",
       "        text-align: right;\n",
       "    }\n",
       "</style>\n",
       "<table border=\"1\" class=\"dataframe\">\n",
       "  <thead>\n",
       "    <tr style=\"text-align: right;\">\n",
       "      <th></th>\n",
       "      <th>Salary</th>\n",
       "    </tr>\n",
       "    <tr>\n",
       "      <th>Department</th>\n",
       "      <th></th>\n",
       "    </tr>\n",
       "  </thead>\n",
       "  <tbody>\n",
       "    <tr>\n",
       "      <th>Finance</th>\n",
       "      <td>87500.0</td>\n",
       "    </tr>\n",
       "    <tr>\n",
       "      <th>HR</th>\n",
       "      <td>76500.0</td>\n",
       "    </tr>\n",
       "    <tr>\n",
       "      <th>IT</th>\n",
       "      <td>82500.0</td>\n",
       "    </tr>\n",
       "    <tr>\n",
       "      <th>Marketing</th>\n",
       "      <td>76000.0</td>\n",
       "    </tr>\n",
       "    <tr>\n",
       "      <th>Sales</th>\n",
       "      <td>61000.0</td>\n",
       "    </tr>\n",
       "  </tbody>\n",
       "</table>\n",
       "</div>"
      ],
      "text/plain": [
       "             Salary\n",
       "Department         \n",
       "Finance     87500.0\n",
       "HR          76500.0\n",
       "IT          82500.0\n",
       "Marketing   76000.0\n",
       "Sales       61000.0"
      ]
     },
     "execution_count": 81,
     "metadata": {},
     "output_type": "execute_result"
    }
   ],
   "source": [
    "average_salary_by_each_department = employees[[\"Department\",\"Salary\"]].groupby(\"Department\").mean()\n",
    "average_salary_by_each_department"
   ]
  },
  {
   "cell_type": "markdown",
   "id": "363c7720-5788-414e-a004-492bc4feafd8",
   "metadata": {},
   "source": [
    "## 3. Aggregation and Grouping:"
   ]
  },
  {
   "cell_type": "markdown",
   "id": "34c34008-29df-4050-b9ce-49d04fbd5649",
   "metadata": {},
   "source": [
    "### Calculate the average salary of all employees."
   ]
  },
  {
   "cell_type": "code",
   "execution_count": 55,
   "id": "77236524-ee09-4e43-beb3-05f5d710a24b",
   "metadata": {},
   "outputs": [
    {
     "data": {
      "text/plain": [
       "76700.0"
      ]
     },
     "execution_count": 55,
     "metadata": {},
     "output_type": "execute_result"
    }
   ],
   "source": [
    "employees[\"Salary\"].mean()"
   ]
  },
  {
   "cell_type": "markdown",
   "id": "652fa8a9-87e9-4d4b-8a67-3074f6df35f3",
   "metadata": {},
   "source": [
    "### Calculate the average age of employees in each department."
   ]
  },
  {
   "cell_type": "code",
   "execution_count": 58,
   "id": "f15a69d9-bd3a-4457-8c60-e00c342fcb4e",
   "metadata": {},
   "outputs": [
    {
     "data": {
      "text/html": [
       "<div>\n",
       "<style scoped>\n",
       "    .dataframe tbody tr th:only-of-type {\n",
       "        vertical-align: middle;\n",
       "    }\n",
       "\n",
       "    .dataframe tbody tr th {\n",
       "        vertical-align: top;\n",
       "    }\n",
       "\n",
       "    .dataframe thead th {\n",
       "        text-align: right;\n",
       "    }\n",
       "</style>\n",
       "<table border=\"1\" class=\"dataframe\">\n",
       "  <thead>\n",
       "    <tr style=\"text-align: right;\">\n",
       "      <th></th>\n",
       "      <th>Age</th>\n",
       "    </tr>\n",
       "    <tr>\n",
       "      <th>Department</th>\n",
       "      <th></th>\n",
       "    </tr>\n",
       "  </thead>\n",
       "  <tbody>\n",
       "    <tr>\n",
       "      <th>Finance</th>\n",
       "      <td>38.5</td>\n",
       "    </tr>\n",
       "    <tr>\n",
       "      <th>HR</th>\n",
       "      <td>43.0</td>\n",
       "    </tr>\n",
       "    <tr>\n",
       "      <th>IT</th>\n",
       "      <td>38.5</td>\n",
       "    </tr>\n",
       "    <tr>\n",
       "      <th>Marketing</th>\n",
       "      <td>33.0</td>\n",
       "    </tr>\n",
       "    <tr>\n",
       "      <th>Sales</th>\n",
       "      <td>28.5</td>\n",
       "    </tr>\n",
       "  </tbody>\n",
       "</table>\n",
       "</div>"
      ],
      "text/plain": [
       "             Age\n",
       "Department      \n",
       "Finance     38.5\n",
       "HR          43.0\n",
       "IT          38.5\n",
       "Marketing   33.0\n",
       "Sales       28.5"
      ]
     },
     "execution_count": 58,
     "metadata": {},
     "output_type": "execute_result"
    }
   ],
   "source": [
    "employees[[\"Department\",\"Age\"]].groupby(\"Department\").mean()"
   ]
  },
  {
   "cell_type": "markdown",
   "id": "16108e1e-5ec4-452f-a0c3-b40c33b62d8f",
   "metadata": {},
   "source": [
    "### Calculate the total years worked at the company for all employees."
   ]
  },
  {
   "cell_type": "code",
   "execution_count": 61,
   "id": "fe90a40c-4643-46c1-8537-b9d2270e69d9",
   "metadata": {},
   "outputs": [
    {
     "data": {
      "text/plain": [
       "71"
      ]
     },
     "execution_count": 61,
     "metadata": {},
     "output_type": "execute_result"
    }
   ],
   "source": [
    "employees[\"YearsAtCompany\"].sum()"
   ]
  },
  {
   "cell_type": "markdown",
   "id": "b78734b5-44c2-4ed4-83cb-02394659fb4e",
   "metadata": {},
   "source": [
    "### Find the employee with the highest salary."
   ]
  },
  {
   "cell_type": "code",
   "execution_count": 71,
   "id": "499ab114-9c0c-4de9-b9da-146796f84ed0",
   "metadata": {},
   "outputs": [
    {
     "data": {
      "text/plain": [
       "Name      Susan Lee\n",
       "Salary        95000\n",
       "dtype: object"
      ]
     },
     "execution_count": 71,
     "metadata": {},
     "output_type": "execute_result"
    }
   ],
   "source": [
    "employees[[\"Name\",\"Salary\"]].max()"
   ]
  },
  {
   "cell_type": "markdown",
   "id": "9750a619-05d0-4b6d-872f-014e88906482",
   "metadata": {},
   "source": [
    "### Calculate the average years at the company for each department."
   ]
  },
  {
   "cell_type": "code",
   "execution_count": 76,
   "id": "ec9be273-c58f-49b1-afa7-074125d5aa9a",
   "metadata": {},
   "outputs": [
    {
     "data": {
      "text/html": [
       "<div>\n",
       "<style scoped>\n",
       "    .dataframe tbody tr th:only-of-type {\n",
       "        vertical-align: middle;\n",
       "    }\n",
       "\n",
       "    .dataframe tbody tr th {\n",
       "        vertical-align: top;\n",
       "    }\n",
       "\n",
       "    .dataframe thead th {\n",
       "        text-align: right;\n",
       "    }\n",
       "</style>\n",
       "<table border=\"1\" class=\"dataframe\">\n",
       "  <thead>\n",
       "    <tr style=\"text-align: right;\">\n",
       "      <th></th>\n",
       "      <th>YearsAtCompany</th>\n",
       "    </tr>\n",
       "    <tr>\n",
       "      <th>Department</th>\n",
       "      <th></th>\n",
       "    </tr>\n",
       "  </thead>\n",
       "  <tbody>\n",
       "    <tr>\n",
       "      <th>Finance</th>\n",
       "      <td>6.5</td>\n",
       "    </tr>\n",
       "    <tr>\n",
       "      <th>HR</th>\n",
       "      <td>10.5</td>\n",
       "    </tr>\n",
       "    <tr>\n",
       "      <th>IT</th>\n",
       "      <td>8.5</td>\n",
       "    </tr>\n",
       "    <tr>\n",
       "      <th>Marketing</th>\n",
       "      <td>6.5</td>\n",
       "    </tr>\n",
       "    <tr>\n",
       "      <th>Sales</th>\n",
       "      <td>3.5</td>\n",
       "    </tr>\n",
       "  </tbody>\n",
       "</table>\n",
       "</div>"
      ],
      "text/plain": [
       "            YearsAtCompany\n",
       "Department                \n",
       "Finance                6.5\n",
       "HR                    10.5\n",
       "IT                     8.5\n",
       "Marketing              6.5\n",
       "Sales                  3.5"
      ]
     },
     "execution_count": 76,
     "metadata": {},
     "output_type": "execute_result"
    }
   ],
   "source": [
    "employees[[\"Department\",\"YearsAtCompany\"]].groupby(\"Department\").mean()"
   ]
  },
  {
   "cell_type": "markdown",
   "id": "a0bcbcd1-8711-405a-a30e-d855b28f6ad2",
   "metadata": {},
   "source": [
    "## 4. Data Visualization:"
   ]
  },
  {
   "cell_type": "markdown",
   "id": "0b99f54a-e1b8-4833-b643-4c3ac26b8dad",
   "metadata": {},
   "source": [
    "### Create a bar plot showing the average salary for each department."
   ]
  },
  {
   "cell_type": "code",
   "execution_count": 86,
   "id": "1e2b5116-34ce-443e-9a78-52368009f4da",
   "metadata": {},
   "outputs": [
    {
     "data": {
      "image/png": "[encoded data removed]",
      "text/plain": [
       "<Figure size 640x480 with 1 Axes>"
      ]
     },
     "metadata": {},
     "output_type": "display_data"
    }
   ],
   "source": [
    "import matplotlib.pyplot as plt\n",
    "\n",
    "average_salary_by_each_department.plot(kind=\"bar\",title=\"Average Salary for Each Department\")\n",
    "plt.show()"
   ]
  },
  {
   "cell_type": "markdown",
   "id": "a4e8a90b-8c41-44ef-ba65-3ebf7567e617",
   "metadata": {},
   "source": [
    "### Create a bar plot showing the total years at the company for each employee."
   ]
  },
  {
   "cell_type": "code",
   "execution_count": 91,
   "id": "a39afd93-3d8c-4bfd-b7d0-b14001b7bbe1",
   "metadata": {},
   "outputs": [
    {
     "data": {
      "image/png": "[encoded data removed]",
      "text/plain": [
       "<Figure size 640x480 with 1 Axes>"
      ]
     },
     "metadata": {},
     "output_type": "display_data"
    }
   ],
   "source": [
    "employees.plot(x=\"Name\",y=\"YearsAtCompany\",kind=\"bar\",title=\"Total Years at the Company for Each Employee\")\n",
    "plt.show()"
   ]
  },
  {
   "cell_type": "markdown",
   "id": "e0029ccf-a2cc-41d5-ad47-ff0337ea7b63",
   "metadata": {},
   "source": [
    "### Create a histogram showing the distribution of employee ages."
   ]
  },
  {
   "cell_type": "code",
   "execution_count": 131,
   "id": "b17cff9a-960a-4816-b987-9c6e96dd9e81",
   "metadata": {},
   "outputs": [
    {
     "data": {
      "image/png": "[encoded data removed]",
      "text/plain": [
       "<Figure size 640x480 with 1 Axes>"
      ]
     },
     "metadata": {},
     "output_type": "display_data"
    }
   ],
   "source": [
    "employees[\"Age\"].hist()\n",
    "plt.show()"
   ]
  },
  {
   "cell_type": "markdown",
   "id": "3d351821-056e-4070-ae30-abdbea74dbe2",
   "metadata": {},
   "source": [
    "### Create a box plot to show the distribution of salaries for each department."
   ]
  },
  {
   "cell_type": "code",
   "execution_count": 133,
   "id": "5d649d1b-b85f-4f10-b9d5-e6f1a046c159",
   "metadata": {},
   "outputs": [
    {
     "data": {
      "image/png": "[encoded data removed]",
      "text/plain": [
       "<Figure size 640x480 with 1 Axes>"
      ]
     },
     "metadata": {},
     "output_type": "display_data"
    }
   ],
   "source": [
    "employees.boxplot(by=\"Department\",column=\"Salary\")\n",
    "plt.show()"
   ]
  },
  {
   "cell_type": "markdown",
   "id": "6704ffd9-c0e4-4c87-92a3-4ff506b7d8fc",
   "metadata": {},
   "source": [
    "### Create a scatter plot showing the relationship between age and salary."
   ]
  },
  {
   "cell_type": "code",
   "execution_count": 135,
   "id": "cf5be948-a954-42bb-9e3e-197b8f7ddf1d",
   "metadata": {},
   "outputs": [
    {
     "data": {
      "image/png": "[encoded data removed]",
      "text/plain": [
       "<Figure size 640x480 with 1 Axes>"
      ]
     },
     "metadata": {},
     "output_type": "display_data"
    }
   ],
   "source": [
    "employees.plot(x=\"Age\", y=\"Salary\", kind=\"scatter\")\n",
    "plt.show()"
   ]
  },
  {
   "cell_type": "code",
   "execution_count": null,
   "id": "773b1e8b-1b67-40ef-aa79-0a3380798aad",
   "metadata": {},
   "outputs": [],
   "source": []
  }
 ],
 "metadata": {
  "kernelspec": {
   "display_name": "Python 3 (ipykernel)",
   "language": "python",
   "name": "python3"
  },
  "language_info": {
   "codemirror_mode": {
    "name": "ipython",
    "version": 3
   },
   "file_extension": ".py",
   "mimetype": "text/x-python",
   "name": "python",
   "nbconvert_exporter": "python",
   "pygments_lexer": "ipython3",
   "version": "3.12.4"
  }
 },
 "nbformat": 4,
 "nbformat_minor": 5
}
