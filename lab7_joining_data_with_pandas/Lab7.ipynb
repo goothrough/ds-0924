{
 "cells": [
  {
   "cell_type": "markdown",
   "id": "3f049cc2",
   "metadata": {},
   "source": [
    "# Lab: Joining and Analyzing Movie and Review Data"
   ]
  },
  {
   "cell_type": "markdown",
   "id": "68612bb1",
   "metadata": {},
   "source": [
    "## 1. Data Preparation and Exploration:"
   ]
  },
  {
   "cell_type": "markdown",
   "id": "c750bf60",
   "metadata": {},
   "source": [
    "### Load the movies.csv and reviews.csv datasets into pandas dataframes."
   ]
  },
  {
   "cell_type": "code",
   "execution_count": 2,
   "id": "d2c281da",
   "metadata": {},
   "outputs": [],
   "source": [
    "import pandas as pd\n",
    "\n",
    "movies: pd.DataFrame = pd.read_csv(\"movies.csv\")\n",
    "reviews: pd.DataFrame = pd.read_csv(\"reviews.csv\")"
   ]
  },
  {
   "cell_type": "markdown",
   "id": "1cf49381",
   "metadata": {},
   "source": [
    "### Display summary statistics and the first few rows of each dataframe to understand their structure."
   ]
  },
  {
   "cell_type": "code",
   "execution_count": 3,
   "id": "f96c8d6a",
   "metadata": {},
   "outputs": [
    {
     "data": {
      "text/html": [
       "<div>\n",
       "<style scoped>\n",
       "    .dataframe tbody tr th:only-of-type {\n",
       "        vertical-align: middle;\n",
       "    }\n",
       "\n",
       "    .dataframe tbody tr th {\n",
       "        vertical-align: top;\n",
       "    }\n",
       "\n",
       "    .dataframe thead th {\n",
       "        text-align: right;\n",
       "    }\n",
       "</style>\n",
       "<table border=\"1\" class=\"dataframe\">\n",
       "  <thead>\n",
       "    <tr style=\"text-align: right;\">\n",
       "      <th></th>\n",
       "      <th>movie_id</th>\n",
       "      <th>release_year</th>\n",
       "    </tr>\n",
       "  </thead>\n",
       "  <tbody>\n",
       "    <tr>\n",
       "      <th>count</th>\n",
       "      <td>100.000000</td>\n",
       "      <td>100.000000</td>\n",
       "    </tr>\n",
       "    <tr>\n",
       "      <th>mean</th>\n",
       "      <td>50.500000</td>\n",
       "      <td>2001.670000</td>\n",
       "    </tr>\n",
       "    <tr>\n",
       "      <th>std</th>\n",
       "      <td>29.011492</td>\n",
       "      <td>13.758417</td>\n",
       "    </tr>\n",
       "    <tr>\n",
       "      <th>min</th>\n",
       "      <td>1.000000</td>\n",
       "      <td>1980.000000</td>\n",
       "    </tr>\n",
       "    <tr>\n",
       "      <th>25%</th>\n",
       "      <td>25.750000</td>\n",
       "      <td>1988.000000</td>\n",
       "    </tr>\n",
       "    <tr>\n",
       "      <th>50%</th>\n",
       "      <td>50.500000</td>\n",
       "      <td>2001.500000</td>\n",
       "    </tr>\n",
       "    <tr>\n",
       "      <th>75%</th>\n",
       "      <td>75.250000</td>\n",
       "      <td>2014.250000</td>\n",
       "    </tr>\n",
       "    <tr>\n",
       "      <th>max</th>\n",
       "      <td>100.000000</td>\n",
       "      <td>2023.000000</td>\n",
       "    </tr>\n",
       "  </tbody>\n",
       "</table>\n",
       "</div>"
      ],
      "text/plain": [
       "         movie_id  release_year\n",
       "count  100.000000    100.000000\n",
       "mean    50.500000   2001.670000\n",
       "std     29.011492     13.758417\n",
       "min      1.000000   1980.000000\n",
       "25%     25.750000   1988.000000\n",
       "50%     50.500000   2001.500000\n",
       "75%     75.250000   2014.250000\n",
       "max    100.000000   2023.000000"
      ]
     },
     "execution_count": 3,
     "metadata": {},
     "output_type": "execute_result"
    }
   ],
   "source": [
    "movies.describe()"
   ]
  },
  {
   "cell_type": "code",
   "execution_count": 4,
   "id": "1c25ea94",
   "metadata": {},
   "outputs": [
    {
     "data": {
      "text/html": [
       "<div>\n",
       "<style scoped>\n",
       "    .dataframe tbody tr th:only-of-type {\n",
       "        vertical-align: middle;\n",
       "    }\n",
       "\n",
       "    .dataframe tbody tr th {\n",
       "        vertical-align: top;\n",
       "    }\n",
       "\n",
       "    .dataframe thead th {\n",
       "        text-align: right;\n",
       "    }\n",
       "</style>\n",
       "<table border=\"1\" class=\"dataframe\">\n",
       "  <thead>\n",
       "    <tr style=\"text-align: right;\">\n",
       "      <th></th>\n",
       "      <th>movie_id</th>\n",
       "      <th>title</th>\n",
       "      <th>genre</th>\n",
       "      <th>release_year</th>\n",
       "    </tr>\n",
       "  </thead>\n",
       "  <tbody>\n",
       "    <tr>\n",
       "      <th>0</th>\n",
       "      <td>1</td>\n",
       "      <td>The Shawshank Redemption</td>\n",
       "      <td>Drama</td>\n",
       "      <td>1999</td>\n",
       "    </tr>\n",
       "    <tr>\n",
       "      <th>1</th>\n",
       "      <td>2</td>\n",
       "      <td>The Godfather</td>\n",
       "      <td>Drama</td>\n",
       "      <td>1987</td>\n",
       "    </tr>\n",
       "    <tr>\n",
       "      <th>2</th>\n",
       "      <td>3</td>\n",
       "      <td>The Dark Knight</td>\n",
       "      <td>Drama</td>\n",
       "      <td>1993</td>\n",
       "    </tr>\n",
       "    <tr>\n",
       "      <th>3</th>\n",
       "      <td>4</td>\n",
       "      <td>Schindler's List</td>\n",
       "      <td>Crime</td>\n",
       "      <td>2002</td>\n",
       "    </tr>\n",
       "    <tr>\n",
       "      <th>4</th>\n",
       "      <td>5</td>\n",
       "      <td>Pulp Fiction</td>\n",
       "      <td>Action</td>\n",
       "      <td>1980</td>\n",
       "    </tr>\n",
       "  </tbody>\n",
       "</table>\n",
       "</div>"
      ],
      "text/plain": [
       "   movie_id                     title   genre  release_year\n",
       "0         1  The Shawshank Redemption   Drama          1999\n",
       "1         2             The Godfather   Drama          1987\n",
       "2         3           The Dark Knight   Drama          1993\n",
       "3         4          Schindler's List   Crime          2002\n",
       "4         5              Pulp Fiction  Action          1980"
      ]
     },
     "execution_count": 4,
     "metadata": {},
     "output_type": "execute_result"
    }
   ],
   "source": [
    "movies.head()"
   ]
  },
  {
   "cell_type": "code",
   "execution_count": 5,
   "id": "340a8907",
   "metadata": {},
   "outputs": [
    {
     "data": {
      "text/html": [
       "<div>\n",
       "<style scoped>\n",
       "    .dataframe tbody tr th:only-of-type {\n",
       "        vertical-align: middle;\n",
       "    }\n",
       "\n",
       "    .dataframe tbody tr th {\n",
       "        vertical-align: top;\n",
       "    }\n",
       "\n",
       "    .dataframe thead th {\n",
       "        text-align: right;\n",
       "    }\n",
       "</style>\n",
       "<table border=\"1\" class=\"dataframe\">\n",
       "  <thead>\n",
       "    <tr style=\"text-align: right;\">\n",
       "      <th></th>\n",
       "      <th>review_id</th>\n",
       "      <th>movie_id</th>\n",
       "      <th>rating</th>\n",
       "    </tr>\n",
       "  </thead>\n",
       "  <tbody>\n",
       "    <tr>\n",
       "      <th>count</th>\n",
       "      <td>300.000000</td>\n",
       "      <td>300.00000</td>\n",
       "      <td>300.000000</td>\n",
       "    </tr>\n",
       "    <tr>\n",
       "      <th>mean</th>\n",
       "      <td>150.500000</td>\n",
       "      <td>52.99000</td>\n",
       "      <td>5.328333</td>\n",
       "    </tr>\n",
       "    <tr>\n",
       "      <th>std</th>\n",
       "      <td>86.746758</td>\n",
       "      <td>27.98835</td>\n",
       "      <td>2.580354</td>\n",
       "    </tr>\n",
       "    <tr>\n",
       "      <th>min</th>\n",
       "      <td>1.000000</td>\n",
       "      <td>1.00000</td>\n",
       "      <td>1.000000</td>\n",
       "    </tr>\n",
       "    <tr>\n",
       "      <th>25%</th>\n",
       "      <td>75.750000</td>\n",
       "      <td>29.75000</td>\n",
       "      <td>3.000000</td>\n",
       "    </tr>\n",
       "    <tr>\n",
       "      <th>50%</th>\n",
       "      <td>150.500000</td>\n",
       "      <td>54.00000</td>\n",
       "      <td>5.200000</td>\n",
       "    </tr>\n",
       "    <tr>\n",
       "      <th>75%</th>\n",
       "      <td>225.250000</td>\n",
       "      <td>76.25000</td>\n",
       "      <td>7.400000</td>\n",
       "    </tr>\n",
       "    <tr>\n",
       "      <th>max</th>\n",
       "      <td>300.000000</td>\n",
       "      <td>100.00000</td>\n",
       "      <td>10.000000</td>\n",
       "    </tr>\n",
       "  </tbody>\n",
       "</table>\n",
       "</div>"
      ],
      "text/plain": [
       "        review_id   movie_id      rating\n",
       "count  300.000000  300.00000  300.000000\n",
       "mean   150.500000   52.99000    5.328333\n",
       "std     86.746758   27.98835    2.580354\n",
       "min      1.000000    1.00000    1.000000\n",
       "25%     75.750000   29.75000    3.000000\n",
       "50%    150.500000   54.00000    5.200000\n",
       "75%    225.250000   76.25000    7.400000\n",
       "max    300.000000  100.00000   10.000000"
      ]
     },
     "execution_count": 5,
     "metadata": {},
     "output_type": "execute_result"
    }
   ],
   "source": [
    "reviews.describe()"
   ]
  },
  {
   "cell_type": "code",
   "execution_count": 6,
   "id": "5913c2c8",
   "metadata": {},
   "outputs": [
    {
     "data": {
      "text/html": [
       "<div>\n",
       "<style scoped>\n",
       "    .dataframe tbody tr th:only-of-type {\n",
       "        vertical-align: middle;\n",
       "    }\n",
       "\n",
       "    .dataframe tbody tr th {\n",
       "        vertical-align: top;\n",
       "    }\n",
       "\n",
       "    .dataframe thead th {\n",
       "        text-align: right;\n",
       "    }\n",
       "</style>\n",
       "<table border=\"1\" class=\"dataframe\">\n",
       "  <thead>\n",
       "    <tr style=\"text-align: right;\">\n",
       "      <th></th>\n",
       "      <th>review_id</th>\n",
       "      <th>movie_id</th>\n",
       "      <th>reviewer</th>\n",
       "      <th>rating</th>\n",
       "      <th>review_date</th>\n",
       "    </tr>\n",
       "  </thead>\n",
       "  <tbody>\n",
       "    <tr>\n",
       "      <th>0</th>\n",
       "      <td>1</td>\n",
       "      <td>96</td>\n",
       "      <td>Jane Doe</td>\n",
       "      <td>8.0</td>\n",
       "      <td>2020-02-17</td>\n",
       "    </tr>\n",
       "    <tr>\n",
       "      <th>1</th>\n",
       "      <td>2</td>\n",
       "      <td>90</td>\n",
       "      <td>Victor Scott</td>\n",
       "      <td>1.8</td>\n",
       "      <td>2020-08-22</td>\n",
       "    </tr>\n",
       "    <tr>\n",
       "      <th>2</th>\n",
       "      <td>3</td>\n",
       "      <td>32</td>\n",
       "      <td>Yara Baker</td>\n",
       "      <td>1.8</td>\n",
       "      <td>2020-03-10</td>\n",
       "    </tr>\n",
       "    <tr>\n",
       "      <th>3</th>\n",
       "      <td>4</td>\n",
       "      <td>77</td>\n",
       "      <td>Victor Scott</td>\n",
       "      <td>5.2</td>\n",
       "      <td>2020-04-24</td>\n",
       "    </tr>\n",
       "    <tr>\n",
       "      <th>4</th>\n",
       "      <td>5</td>\n",
       "      <td>16</td>\n",
       "      <td>Mia Martinez</td>\n",
       "      <td>6.3</td>\n",
       "      <td>2020-04-13</td>\n",
       "    </tr>\n",
       "  </tbody>\n",
       "</table>\n",
       "</div>"
      ],
      "text/plain": [
       "   review_id  movie_id      reviewer  rating review_date\n",
       "0          1        96      Jane Doe     8.0  2020-02-17\n",
       "1          2        90  Victor Scott     1.8  2020-08-22\n",
       "2          3        32    Yara Baker     1.8  2020-03-10\n",
       "3          4        77  Victor Scott     5.2  2020-04-24\n",
       "4          5        16  Mia Martinez     6.3  2020-04-13"
      ]
     },
     "execution_count": 6,
     "metadata": {},
     "output_type": "execute_result"
    }
   ],
   "source": [
    "reviews.head()"
   ]
  },
  {
   "cell_type": "markdown",
   "id": "3504dcff",
   "metadata": {},
   "source": [
    "## 2. Highest Rated Movies:"
   ]
  },
  {
   "cell_type": "markdown",
   "metadata": {},
   "source": [
    "### Perform an inner join on the movies and reviews dataframes based on the movie_id column."
   ]
  },
  {
   "cell_type": "code",
   "execution_count": 7,
   "id": "9d3a189f",
   "metadata": {},
   "outputs": [
    {
     "data": {
      "text/html": [
       "<div>\n",
       "<style scoped>\n",
       "    .dataframe tbody tr th:only-of-type {\n",
       "        vertical-align: middle;\n",
       "    }\n",
       "\n",
       "    .dataframe tbody tr th {\n",
       "        vertical-align: top;\n",
       "    }\n",
       "\n",
       "    .dataframe thead th {\n",
       "        text-align: right;\n",
       "    }\n",
       "</style>\n",
       "<table border=\"1\" class=\"dataframe\">\n",
       "  <thead>\n",
       "    <tr style=\"text-align: right;\">\n",
       "      <th></th>\n",
       "      <th>movie_id</th>\n",
       "      <th>title</th>\n",
       "      <th>genre</th>\n",
       "      <th>release_year</th>\n",
       "      <th>review_id</th>\n",
       "      <th>reviewer</th>\n",
       "      <th>rating</th>\n",
       "      <th>review_date</th>\n",
       "    </tr>\n",
       "  </thead>\n",
       "  <tbody>\n",
       "    <tr>\n",
       "      <th>0</th>\n",
       "      <td>1</td>\n",
       "      <td>The Shawshank Redemption</td>\n",
       "      <td>Drama</td>\n",
       "      <td>1999</td>\n",
       "      <td>40</td>\n",
       "      <td>Ivy White</td>\n",
       "      <td>4.4</td>\n",
       "      <td>2020-04-04</td>\n",
       "    </tr>\n",
       "    <tr>\n",
       "      <th>1</th>\n",
       "      <td>1</td>\n",
       "      <td>The Shawshank Redemption</td>\n",
       "      <td>Drama</td>\n",
       "      <td>1999</td>\n",
       "      <td>151</td>\n",
       "      <td>Quinn Walker</td>\n",
       "      <td>7.7</td>\n",
       "      <td>2020-01-23</td>\n",
       "    </tr>\n",
       "    <tr>\n",
       "      <th>2</th>\n",
       "      <td>1</td>\n",
       "      <td>The Shawshank Redemption</td>\n",
       "      <td>Drama</td>\n",
       "      <td>1999</td>\n",
       "      <td>153</td>\n",
       "      <td>Sophia Allen</td>\n",
       "      <td>9.0</td>\n",
       "      <td>2020-01-27</td>\n",
       "    </tr>\n",
       "    <tr>\n",
       "      <th>3</th>\n",
       "      <td>1</td>\n",
       "      <td>The Shawshank Redemption</td>\n",
       "      <td>Drama</td>\n",
       "      <td>1999</td>\n",
       "      <td>167</td>\n",
       "      <td>Henry Harris</td>\n",
       "      <td>8.7</td>\n",
       "      <td>2020-06-17</td>\n",
       "    </tr>\n",
       "    <tr>\n",
       "      <th>4</th>\n",
       "      <td>3</td>\n",
       "      <td>The Dark Knight</td>\n",
       "      <td>Drama</td>\n",
       "      <td>1993</td>\n",
       "      <td>129</td>\n",
       "      <td>Uma King</td>\n",
       "      <td>9.8</td>\n",
       "      <td>2020-03-12</td>\n",
       "    </tr>\n",
       "    <tr>\n",
       "      <th>...</th>\n",
       "      <td>...</td>\n",
       "      <td>...</td>\n",
       "      <td>...</td>\n",
       "      <td>...</td>\n",
       "      <td>...</td>\n",
       "      <td>...</td>\n",
       "      <td>...</td>\n",
       "      <td>...</td>\n",
       "    </tr>\n",
       "    <tr>\n",
       "      <th>295</th>\n",
       "      <td>99</td>\n",
       "      <td>Life of Pi</td>\n",
       "      <td>Action</td>\n",
       "      <td>2017</td>\n",
       "      <td>12</td>\n",
       "      <td>Olivia Clark</td>\n",
       "      <td>4.8</td>\n",
       "      <td>2020-07-23</td>\n",
       "    </tr>\n",
       "    <tr>\n",
       "      <th>296</th>\n",
       "      <td>99</td>\n",
       "      <td>Life of Pi</td>\n",
       "      <td>Action</td>\n",
       "      <td>2017</td>\n",
       "      <td>257</td>\n",
       "      <td>Olivia Clark</td>\n",
       "      <td>2.1</td>\n",
       "      <td>2020-04-22</td>\n",
       "    </tr>\n",
       "    <tr>\n",
       "      <th>297</th>\n",
       "      <td>100</td>\n",
       "      <td>The Aviator</td>\n",
       "      <td>Sci-Fi</td>\n",
       "      <td>2004</td>\n",
       "      <td>77</td>\n",
       "      <td>Mia Martinez</td>\n",
       "      <td>8.3</td>\n",
       "      <td>2020-01-17</td>\n",
       "    </tr>\n",
       "    <tr>\n",
       "      <th>298</th>\n",
       "      <td>100</td>\n",
       "      <td>The Aviator</td>\n",
       "      <td>Sci-Fi</td>\n",
       "      <td>2004</td>\n",
       "      <td>78</td>\n",
       "      <td>Kathy Thompson</td>\n",
       "      <td>6.5</td>\n",
       "      <td>2020-10-13</td>\n",
       "    </tr>\n",
       "    <tr>\n",
       "      <th>299</th>\n",
       "      <td>100</td>\n",
       "      <td>The Aviator</td>\n",
       "      <td>Sci-Fi</td>\n",
       "      <td>2004</td>\n",
       "      <td>276</td>\n",
       "      <td>Henry Harris</td>\n",
       "      <td>7.6</td>\n",
       "      <td>2020-06-14</td>\n",
       "    </tr>\n",
       "  </tbody>\n",
       "</table>\n",
       "<p>300 rows × 8 columns</p>\n",
       "</div>"
      ],
      "text/plain": [
       "     movie_id                     title   genre  release_year  review_id  \\\n",
       "0           1  The Shawshank Redemption   Drama          1999         40   \n",
       "1           1  The Shawshank Redemption   Drama          1999        151   \n",
       "2           1  The Shawshank Redemption   Drama          1999        153   \n",
       "3           1  The Shawshank Redemption   Drama          1999        167   \n",
       "4           3           The Dark Knight   Drama          1993        129   \n",
       "..        ...                       ...     ...           ...        ...   \n",
       "295        99                Life of Pi  Action          2017         12   \n",
       "296        99                Life of Pi  Action          2017        257   \n",
       "297       100               The Aviator  Sci-Fi          2004         77   \n",
       "298       100               The Aviator  Sci-Fi          2004         78   \n",
       "299       100               The Aviator  Sci-Fi          2004        276   \n",
       "\n",
       "           reviewer  rating review_date  \n",
       "0         Ivy White     4.4  2020-04-04  \n",
       "1      Quinn Walker     7.7  2020-01-23  \n",
       "2      Sophia Allen     9.0  2020-01-27  \n",
       "3      Henry Harris     8.7  2020-06-17  \n",
       "4          Uma King     9.8  2020-03-12  \n",
       "..              ...     ...         ...  \n",
       "295    Olivia Clark     4.8  2020-07-23  \n",
       "296    Olivia Clark     2.1  2020-04-22  \n",
       "297    Mia Martinez     8.3  2020-01-17  \n",
       "298  Kathy Thompson     6.5  2020-10-13  \n",
       "299    Henry Harris     7.6  2020-06-14  \n",
       "\n",
       "[300 rows x 8 columns]"
      ]
     },
     "execution_count": 7,
     "metadata": {},
     "output_type": "execute_result"
    }
   ],
   "source": [
    "movies_and_reviews = pd.merge(movies, reviews, on=\"movie_id\")\n",
    "movies_and_reviews"
   ]
  },
  {
   "cell_type": "markdown",
   "id": "77a308a9",
   "metadata": {},
   "source": [
    "### Calculate the average rating for each movie."
   ]
  },
  {
   "cell_type": "code",
   "execution_count": 8,
   "id": "7192ca12",
   "metadata": {},
   "outputs": [
    {
     "data": {
      "text/plain": [
       "title\n",
       "3 Idiots              3.300000\n",
       "A Beautiful Mind      7.625000\n",
       "A Clockwork Orange    7.300000\n",
       "Alien                 3.133333\n",
       "Aliens                5.400000\n",
       "                        ...   \n",
       "Vertigo               9.350000\n",
       "WALL-E                6.000000\n",
       "Whale Rider           4.250000\n",
       "Whiplash              7.300000\n",
       "Your Name             6.250000\n",
       "Name: rating, Length: 96, dtype: float64"
      ]
     },
     "execution_count": 8,
     "metadata": {},
     "output_type": "execute_result"
    }
   ],
   "source": [
    "average_rating_by_movie = movies_and_reviews.groupby(\"title\")[\"rating\"].mean()\n",
    "average_rating_by_movie"
   ]
  },
  {
   "cell_type": "markdown",
   "id": "4091c1c0",
   "metadata": {},
   "source": [
    "### Identify the top 10 highest-rated movies."
   ]
  },
  {
   "cell_type": "code",
   "execution_count": 9,
   "id": "66fe1f7f",
   "metadata": {},
   "outputs": [
    {
     "data": {
      "text/html": [
       "<div>\n",
       "<style scoped>\n",
       "    .dataframe tbody tr th:only-of-type {\n",
       "        vertical-align: middle;\n",
       "    }\n",
       "\n",
       "    .dataframe tbody tr th {\n",
       "        vertical-align: top;\n",
       "    }\n",
       "\n",
       "    .dataframe thead th {\n",
       "        text-align: right;\n",
       "    }\n",
       "</style>\n",
       "<table border=\"1\" class=\"dataframe\">\n",
       "  <thead>\n",
       "    <tr style=\"text-align: right;\">\n",
       "      <th></th>\n",
       "      <th>movie_id</th>\n",
       "      <th>title</th>\n",
       "      <th>genre</th>\n",
       "      <th>release_year</th>\n",
       "      <th>review_id</th>\n",
       "      <th>reviewer</th>\n",
       "      <th>rating</th>\n",
       "      <th>review_date</th>\n",
       "    </tr>\n",
       "  </thead>\n",
       "  <tbody>\n",
       "    <tr>\n",
       "      <th>236</th>\n",
       "      <td>80</td>\n",
       "      <td>A Beautiful Mind</td>\n",
       "      <td>Fantasy</td>\n",
       "      <td>2001</td>\n",
       "      <td>83</td>\n",
       "      <td>Liam Garcia</td>\n",
       "      <td>10.0</td>\n",
       "      <td>2020-06-11</td>\n",
       "    </tr>\n",
       "    <tr>\n",
       "      <th>208</th>\n",
       "      <td>73</td>\n",
       "      <td>Full Metal Jacket</td>\n",
       "      <td>Sci-Fi</td>\n",
       "      <td>2011</td>\n",
       "      <td>170</td>\n",
       "      <td>Yara Baker</td>\n",
       "      <td>9.9</td>\n",
       "      <td>2020-04-06</td>\n",
       "    </tr>\n",
       "    <tr>\n",
       "      <th>98</th>\n",
       "      <td>37</td>\n",
       "      <td>Oldboy</td>\n",
       "      <td>Sci-Fi</td>\n",
       "      <td>2010</td>\n",
       "      <td>282</td>\n",
       "      <td>Yara Baker</td>\n",
       "      <td>9.9</td>\n",
       "      <td>2020-09-20</td>\n",
       "    </tr>\n",
       "    <tr>\n",
       "      <th>235</th>\n",
       "      <td>80</td>\n",
       "      <td>A Beautiful Mind</td>\n",
       "      <td>Fantasy</td>\n",
       "      <td>2001</td>\n",
       "      <td>21</td>\n",
       "      <td>Alice Johnson</td>\n",
       "      <td>9.9</td>\n",
       "      <td>2020-03-25</td>\n",
       "    </tr>\n",
       "    <tr>\n",
       "      <th>185</th>\n",
       "      <td>64</td>\n",
       "      <td>Psycho</td>\n",
       "      <td>Action</td>\n",
       "      <td>1985</td>\n",
       "      <td>160</td>\n",
       "      <td>Jane Doe</td>\n",
       "      <td>9.9</td>\n",
       "      <td>2020-02-26</td>\n",
       "    </tr>\n",
       "    <tr>\n",
       "      <th>47</th>\n",
       "      <td>20</td>\n",
       "      <td>Interstellar</td>\n",
       "      <td>Fantasy</td>\n",
       "      <td>2021</td>\n",
       "      <td>103</td>\n",
       "      <td>Ryan Hall</td>\n",
       "      <td>9.9</td>\n",
       "      <td>2020-06-29</td>\n",
       "    </tr>\n",
       "    <tr>\n",
       "      <th>12</th>\n",
       "      <td>7</td>\n",
       "      <td>Forrest Gump</td>\n",
       "      <td>Biography</td>\n",
       "      <td>2004</td>\n",
       "      <td>31</td>\n",
       "      <td>Frank Wilson</td>\n",
       "      <td>9.8</td>\n",
       "      <td>2020-09-30</td>\n",
       "    </tr>\n",
       "    <tr>\n",
       "      <th>260</th>\n",
       "      <td>89</td>\n",
       "      <td>The Wolf of Wall Street</td>\n",
       "      <td>Crime</td>\n",
       "      <td>2006</td>\n",
       "      <td>72</td>\n",
       "      <td>Kathy Thompson</td>\n",
       "      <td>9.8</td>\n",
       "      <td>2020-09-04</td>\n",
       "    </tr>\n",
       "    <tr>\n",
       "      <th>4</th>\n",
       "      <td>3</td>\n",
       "      <td>The Dark Knight</td>\n",
       "      <td>Drama</td>\n",
       "      <td>1993</td>\n",
       "      <td>129</td>\n",
       "      <td>Uma King</td>\n",
       "      <td>9.8</td>\n",
       "      <td>2020-03-12</td>\n",
       "    </tr>\n",
       "    <tr>\n",
       "      <th>280</th>\n",
       "      <td>94</td>\n",
       "      <td>La La Land</td>\n",
       "      <td>Action</td>\n",
       "      <td>2006</td>\n",
       "      <td>131</td>\n",
       "      <td>Charlie Davis</td>\n",
       "      <td>9.7</td>\n",
       "      <td>2020-08-11</td>\n",
       "    </tr>\n",
       "  </tbody>\n",
       "</table>\n",
       "</div>"
      ],
      "text/plain": [
       "     movie_id                    title      genre  release_year  review_id  \\\n",
       "236        80         A Beautiful Mind    Fantasy          2001         83   \n",
       "208        73        Full Metal Jacket     Sci-Fi          2011        170   \n",
       "98         37                   Oldboy     Sci-Fi          2010        282   \n",
       "235        80         A Beautiful Mind    Fantasy          2001         21   \n",
       "185        64                   Psycho     Action          1985        160   \n",
       "47         20             Interstellar    Fantasy          2021        103   \n",
       "12          7             Forrest Gump  Biography          2004         31   \n",
       "260        89  The Wolf of Wall Street      Crime          2006         72   \n",
       "4           3          The Dark Knight      Drama          1993        129   \n",
       "280        94               La La Land     Action          2006        131   \n",
       "\n",
       "           reviewer  rating review_date  \n",
       "236     Liam Garcia    10.0  2020-06-11  \n",
       "208      Yara Baker     9.9  2020-04-06  \n",
       "98       Yara Baker     9.9  2020-09-20  \n",
       "235   Alice Johnson     9.9  2020-03-25  \n",
       "185        Jane Doe     9.9  2020-02-26  \n",
       "47        Ryan Hall     9.9  2020-06-29  \n",
       "12     Frank Wilson     9.8  2020-09-30  \n",
       "260  Kathy Thompson     9.8  2020-09-04  \n",
       "4          Uma King     9.8  2020-03-12  \n",
       "280   Charlie Davis     9.7  2020-08-11  "
      ]
     },
     "execution_count": 9,
     "metadata": {},
     "output_type": "execute_result"
    }
   ],
   "source": [
    "movies_and_reviews.sort_values(by=\"rating\", ascending=False).head(10)"
   ]
  },
  {
   "cell_type": "markdown",
   "id": "818a5e02",
   "metadata": {},
   "source": [
    "### Display the titles and average ratings of these top 10 movies."
   ]
  },
  {
   "cell_type": "code",
   "execution_count": 10,
   "id": "1acab29a",
   "metadata": {},
   "outputs": [
    {
     "data": {
      "text/plain": [
       "title\n",
       "The Dark Knight            9.800\n",
       "Vertigo                    9.350\n",
       "City Lights                9.250\n",
       "Jaws                       8.600\n",
       "Grave of the Fireflies     8.000\n",
       "Scarface                   8.000\n",
       "The Empire Strikes Back    8.000\n",
       "North by Northwest         7.650\n",
       "A Beautiful Mind           7.625\n",
       "Oldboy                     7.500\n",
       "Name: rating, dtype: float64"
      ]
     },
     "execution_count": 10,
     "metadata": {},
     "output_type": "execute_result"
    }
   ],
   "source": [
    "average_rating_by_movie.sort_values(ascending=False).head(10)"
   ]
  },
  {
   "cell_type": "markdown",
   "id": "8fc1c936",
   "metadata": {},
   "source": [
    "## 3. Genre Analysis:"
   ]
  },
  {
   "cell_type": "markdown",
   "id": "b5ec9474",
   "metadata": {},
   "source": [
    "### Group the joined dataframe by genre and calculate the average rating for each genre."
   ]
  },
  {
   "cell_type": "code",
   "execution_count": 11,
   "id": "5978a675",
   "metadata": {},
   "outputs": [
    {
     "data": {
      "text/plain": [
       "genre\n",
       "Action       5.109375\n",
       "Biography    5.279310\n",
       "Crime        4.901493\n",
       "Drama        5.204478\n",
       "Fantasy      5.768421\n",
       "Sci-Fi       6.118421\n",
       "Name: rating, dtype: float64"
      ]
     },
     "execution_count": 11,
     "metadata": {},
     "output_type": "execute_result"
    }
   ],
   "source": [
    "average_rating_by_genre =  movies_and_reviews.groupby(\"genre\")[\"rating\"].mean()\n",
    "average_rating_by_genre"
   ]
  },
  {
   "cell_type": "markdown",
   "id": "e24702ea",
   "metadata": {},
   "source": [
    "### Determine which genre has the highest average rating."
   ]
  },
  {
   "cell_type": "code",
   "execution_count": 12,
   "id": "1dc8770f",
   "metadata": {},
   "outputs": [
    {
     "data": {
      "text/plain": [
       "'Sci-Fi'"
      ]
     },
     "execution_count": 12,
     "metadata": {},
     "output_type": "execute_result"
    }
   ],
   "source": [
    "average_rating_by_genre.idxmax()"
   ]
  },
  {
   "cell_type": "markdown",
   "id": "2d7bc234",
   "metadata": {},
   "source": [
    "### Display the genres along with their average ratings."
   ]
  },
  {
   "cell_type": "code",
   "execution_count": 13,
   "id": "9cf7c37d",
   "metadata": {},
   "outputs": [
    {
     "data": {
      "text/plain": [
       "genre\n",
       "Action       5.109375\n",
       "Biography    5.279310\n",
       "Crime        4.901493\n",
       "Drama        5.204478\n",
       "Fantasy      5.768421\n",
       "Sci-Fi       6.118421\n",
       "Name: rating, dtype: float64"
      ]
     },
     "execution_count": 13,
     "metadata": {},
     "output_type": "execute_result"
    }
   ],
   "source": [
    "average_rating_by_genre"
   ]
  },
  {
   "cell_type": "markdown",
   "id": "c8d7ad9b",
   "metadata": {},
   "source": [
    "## 4. Reviewer Analysis:"
   ]
  },
  {
   "cell_type": "markdown",
   "id": "53ee17b6",
   "metadata": {},
   "source": [
    "### Identify the top 5 reviewers who have given the most reviews."
   ]
  },
  {
   "cell_type": "code",
   "execution_count": 46,
   "id": "97cde54c",
   "metadata": {},
   "outputs": [
    {
     "data": {
      "text/plain": [
       "reviewer\n",
       "Tom Young       18\n",
       "Uma King        16\n",
       "Henry Harris    15\n",
       "John Smith      14\n",
       "Yara Baker      13\n",
       "Name: review_id, dtype: int64"
      ]
     },
     "execution_count": 46,
     "metadata": {},
     "output_type": "execute_result"
    }
   ],
   "source": [
    "review_count_by_reviewer = reviews.groupby(\"reviewer\")[\"review_id\"].count()\n",
    "sorted_review_count_by_reviewer = review_count_by_reviewer.sort_values(ascending=False).head(5)\n",
    "sorted_review_count_by_reviewer"
   ]
  },
  {
   "cell_type": "markdown",
   "id": "3d52aa4b",
   "metadata": {},
   "source": [
    "### Calculate the average rating given by each of these top 5 reviewers."
   ]
  },
  {
   "cell_type": "code",
   "execution_count": 78,
   "id": "3fc8fa07",
   "metadata": {},
   "outputs": [
    {
     "data": {
      "text/html": [
       "<div>\n",
       "<style scoped>\n",
       "    .dataframe tbody tr th:only-of-type {\n",
       "        vertical-align: middle;\n",
       "    }\n",
       "\n",
       "    .dataframe tbody tr th {\n",
       "        vertical-align: top;\n",
       "    }\n",
       "\n",
       "    .dataframe thead th {\n",
       "        text-align: right;\n",
       "    }\n",
       "</style>\n",
       "<table border=\"1\" class=\"dataframe\">\n",
       "  <thead>\n",
       "    <tr style=\"text-align: right;\">\n",
       "      <th></th>\n",
       "      <th>count</th>\n",
       "      <th>mean</th>\n",
       "    </tr>\n",
       "    <tr>\n",
       "      <th>reviewer</th>\n",
       "      <th></th>\n",
       "      <th></th>\n",
       "    </tr>\n",
       "  </thead>\n",
       "  <tbody>\n",
       "    <tr>\n",
       "      <th>Tom Young</th>\n",
       "      <td>18</td>\n",
       "      <td>5.400000</td>\n",
       "    </tr>\n",
       "    <tr>\n",
       "      <th>Uma King</th>\n",
       "      <td>16</td>\n",
       "      <td>5.500000</td>\n",
       "    </tr>\n",
       "    <tr>\n",
       "      <th>Henry Harris</th>\n",
       "      <td>15</td>\n",
       "      <td>4.473333</td>\n",
       "    </tr>\n",
       "    <tr>\n",
       "      <th>John Smith</th>\n",
       "      <td>14</td>\n",
       "      <td>4.542857</td>\n",
       "    </tr>\n",
       "    <tr>\n",
       "      <th>Yara Baker</th>\n",
       "      <td>13</td>\n",
       "      <td>5.707692</td>\n",
       "    </tr>\n",
       "  </tbody>\n",
       "</table>\n",
       "</div>"
      ],
      "text/plain": [
       "              count      mean\n",
       "reviewer                     \n",
       "Tom Young        18  5.400000\n",
       "Uma King         16  5.500000\n",
       "Henry Harris     15  4.473333\n",
       "John Smith       14  4.542857\n",
       "Yara Baker       13  5.707692"
      ]
     },
     "execution_count": 78,
     "metadata": {},
     "output_type": "execute_result"
    }
   ],
   "source": [
    "reviews.groupby(\"reviewer\")[\"rating\"].agg(['count','mean']).sort_values(by=\"count\",ascending=False).head(5)"
   ]
  },
  {
   "cell_type": "markdown",
   "id": "4844b8a8",
   "metadata": {},
   "source": [
    "### Display the reviewer names and their average ratings."
   ]
  },
  {
   "cell_type": "markdown",
   "id": "cf9300a4",
   "metadata": {},
   "source": [
    "## 5. Time-Based Analysis:"
   ]
  },
  {
   "cell_type": "markdown",
   "id": "ed49f915",
   "metadata": {},
   "source": [
    "### Analyze how movie ratings have changed over time."
   ]
  },
  {
   "cell_type": "markdown",
   "id": "fc7aa88f",
   "metadata": {},
   "source": [
    "### Group the joined dataframe by the month extracted from the review_date column and calculate the average rating for each month."
   ]
  },
  {
   "cell_type": "code",
   "execution_count": 86,
   "id": "c7198361",
   "metadata": {},
   "outputs": [
    {
     "data": {
      "text/plain": [
       "review_month\n",
       "1     5.209677\n",
       "2     4.755172\n",
       "3     5.583871\n",
       "4     5.213333\n",
       "5     6.048387\n",
       "6     5.623333\n",
       "7     5.338710\n",
       "8     4.858065\n",
       "9     5.456667\n",
       "10    5.138462\n",
       "Name: rating, dtype: float64"
      ]
     },
     "execution_count": 86,
     "metadata": {},
     "output_type": "execute_result"
    }
   ],
   "source": [
    "# extract the month from the review_date and make a new column \"review_month\" with it\n",
    "movies_and_reviews[\"review_date\"] = pd.to_datetime(movies_and_reviews[\"review_date\"])\n",
    "movies_and_reviews[\"review_month\"] = movies_and_reviews[\"review_date\"].dt.month\n",
    "\n",
    "# calculate the average rating for each month\n",
    "movies_and_reviews.groupby(\"review_month\")[\"rating\"].mean()"
   ]
  },
  {
   "cell_type": "markdown",
   "id": "3d0f26e1",
   "metadata": {},
   "source": [
    "### Create a line plot showing the trend of average movie ratings over time."
   ]
  },
  {
   "cell_type": "code",
   "execution_count": 237,
   "id": "70845cbd",
   "metadata": {},
   "outputs": [
    {
     "data": {
      "image/png": "[encoded data removed]",
      "text/plain": [
       "<Figure size 640x480 with 1 Axes>"
      ]
     },
     "metadata": {},
     "output_type": "display_data"
    }
   ],
   "source": [
    "import matplotlib.pyplot as plt\n",
    "\n",
    "# extract the year from the review_date and make a new column \"review_year\" with it\n",
    "movies_and_reviews[\"review_year\"] = movies_and_reviews[\"review_date\"].dt.year\n",
    "movies_and_reviews.groupby([\"review_year\", \"review_month\"])[\"rating\"].mean().plot(\n",
    "    kind=\"line\", xlabel=\"Review Year and Month\", ylabel=\"Average Rating\"\n",
    ")\n",
    "plt.show()"
   ]
  },
  {
   "cell_type": "markdown",
   "id": "bf305cca",
   "metadata": {},
   "source": [
    "### Discuss any observable trends."
   ]
  },
  {
   "cell_type": "markdown",
   "id": "bcf50c48",
   "metadata": {},
   "source": [
    "- The average rating has its peak in the middle of the year, especially in May.\n",
    "- The nearer the beginning and end of the year, the lower the average rating tends to be."
   ]
  },
  {
   "cell_type": "code",
   "execution_count": 238,
   "id": "93f6a60e",
   "metadata": {},
   "outputs": [
    {
     "data": {
      "text/plain": [
       "review_year  review_month\n",
       "2020         1               31\n",
       "             2               29\n",
       "             3               31\n",
       "             4               30\n",
       "             5               31\n",
       "             6               30\n",
       "             7               31\n",
       "             8               31\n",
       "             9               30\n",
       "             10              26\n",
       "Name: rating, dtype: int64"
      ]
     },
     "execution_count": 238,
     "metadata": {},
     "output_type": "execute_result"
    }
   ],
   "source": [
    "movies_and_reviews.groupby([\"review_year\",\"review_month\"])[\"rating\"].count()"
   ]
  },
  {
   "cell_type": "markdown",
   "id": "eacd81fe",
   "metadata": {},
   "source": [
    "According to the above table, there is no big difference in the number of reviews among the month.\n",
    "\n",
    "The average rating in the middle of the year tends to be higher than the beginning and end of the year."
   ]
  },
  {
   "cell_type": "markdown",
   "id": "14066e83",
   "metadata": {},
   "source": [
    "## 6. Movies with Most Reviews:"
   ]
  },
  {
   "cell_type": "markdown",
   "id": "3f66b1f5",
   "metadata": {},
   "source": [
    "### Identify the top 10 movies that have received the most reviews."
   ]
  },
  {
   "cell_type": "markdown",
   "id": "a2bed2a2",
   "metadata": {},
   "source": [
    "### Display the titles of these movies along with the number of reviews they have received."
   ]
  },
  {
   "cell_type": "code",
   "execution_count": 239,
   "id": "559d017a",
   "metadata": {},
   "outputs": [
    {
     "data": {
      "text/plain": [
       "title\n",
       "Full Metal Jacket        7\n",
       "Interstellar             7\n",
       "Paths of Glory           6\n",
       "It's a Wonderful Life    6\n",
       "Memento                  6\n",
       "The Truman Show          6\n",
       "Shutter Island           6\n",
       "The Revenant             6\n",
       "Capernaum                6\n",
       "The Hunt                 5\n",
       "Name: review_id, dtype: int64"
      ]
     },
     "execution_count": 239,
     "metadata": {},
     "output_type": "execute_result"
    }
   ],
   "source": [
    "movies_and_reviews.groupby(\"title\")[\"review_id\"].count().sort_values(ascending=False).head(10)"
   ]
  },
  {
   "cell_type": "markdown",
   "id": "c95ada0b",
   "metadata": {},
   "source": [
    "## 7. Distribution of Ratings:"
   ]
  },
  {
   "cell_type": "markdown",
   "id": "0d5a17ff",
   "metadata": {},
   "source": [
    "### Create a histogram to visualize the distribution of ratings."
   ]
  },
  {
   "cell_type": "code",
   "execution_count": 240,
   "id": "7ade413a",
   "metadata": {},
   "outputs": [
    {
     "data": {
      "image/png": "[encoded data removed]",
      "text/plain": [
       "<Figure size 640x480 with 1 Axes>"
      ]
     },
     "metadata": {},
     "output_type": "display_data"
    }
   ],
   "source": [
    "movies_and_reviews[\"rating\"].plot(kind=\"hist\",xlabel=\"Rating\")\n",
    "plt.show()"
   ]
  },
  {
   "cell_type": "markdown",
   "id": "31a7b490",
   "metadata": {},
   "source": [
    "### Analyze the distribution and discuss any skewness or patterns observed in the ratings."
   ]
  },
  {
   "cell_type": "markdown",
   "id": "8caee80f",
   "metadata": {},
   "source": [
    "It seems that most movie ratings fall between 2 and 7, with a balanced spread of reviews across all rating categories."
   ]
  },
  {
   "cell_type": "markdown",
   "id": "e32fb7ee",
   "metadata": {},
   "source": [
    "## 8. Impact of Release Year:"
   ]
  },
  {
   "cell_type": "markdown",
   "id": "3f037ff3",
   "metadata": {},
   "source": [
    "### Analyze if there is any correlation between the release year of a movie and its average rating."
   ]
  },
  {
   "cell_type": "markdown",
   "id": "813185cc",
   "metadata": {},
   "source": [
    "### Create a scatter plot showing the relationship between the release year and the average rating."
   ]
  },
  {
   "cell_type": "code",
   "execution_count": 241,
   "id": "14ae0543",
   "metadata": {},
   "outputs": [
    {
     "data": {
      "image/png": "[encoded data removed]",
      "text/plain": [
       "<Figure size 640x480 with 1 Axes>"
      ]
     },
     "metadata": {},
     "output_type": "display_data"
    }
   ],
   "source": [
    "average_rating_by_release_year = movies_and_reviews.groupby(\"release_year\")[\n",
    "    \"rating\"\n",
    "].mean()\n",
    "plt.scatter(x=average_rating_by_release_year.index, y=average_rating_by_release_year)\n",
    "plt.xlabel(\"Release Year\")\n",
    "plt.ylabel(\"Average Rating\")\n",
    "plt.show()"
   ]
  },
  {
   "cell_type": "markdown",
   "id": "766cbd24",
   "metadata": {},
   "source": [
    "### Discuss any observable patterns or correlations."
   ]
  },
  {
   "cell_type": "markdown",
   "id": "cc8198ab",
   "metadata": {},
   "source": [
    "It seems the average rating is almost steady throughout the time.\n",
    "There isn't any relationship between them."
   ]
  },
  {
   "cell_type": "markdown",
   "id": "ff70b5d6",
   "metadata": {},
   "source": [
    "## 9. Reviewer Consistency:"
   ]
  },
  {
   "cell_type": "markdown",
   "id": "f311dda8",
   "metadata": {},
   "source": [
    "### For each reviewer, calculate the standard deviation of their ratings."
   ]
  },
  {
   "cell_type": "code",
   "execution_count": 242,
   "id": "706d2ebd",
   "metadata": {},
   "outputs": [
    {
     "data": {
      "text/plain": [
       "reviewer\n",
       "Alice Johnson     3.293094\n",
       "Bob Brown         2.961681\n",
       "Charlie Davis     2.205145\n",
       "Emily Evans       2.277645\n",
       "Frank Wilson      2.596618\n",
       "Grace Lee         2.192273\n",
       "Henry Harris      2.610273\n",
       "Ivy White         1.875449\n",
       "Jack Martin       2.849389\n",
       "Jane Doe          2.718823\n",
       "John Smith        2.127373\n",
       "Kathy Thompson    2.426857\n",
       "Liam Garcia       2.314586\n",
       "Mia Martinez      2.092773\n",
       "Noah Robinson     1.773415\n",
       "Olivia Clark      2.438290\n",
       "Paul Lewis        1.913984\n",
       "Quinn Walker      2.323360\n",
       "Ryan Hall         2.221255\n",
       "Sophia Allen      2.719473\n",
       "Tom Young         2.556652\n",
       "Uma King          2.742748\n",
       "Victor Scott      1.940003\n",
       "Wendy Green       2.708807\n",
       "Xander Adams      2.214598\n",
       "Yara Baker        3.128221\n",
       "Zane Carter       3.567718\n",
       "Name: rating, dtype: float64"
      ]
     },
     "execution_count": 242,
     "metadata": {},
     "output_type": "execute_result"
    }
   ],
   "source": [
    "rating_std_by_reviewer = movies_and_reviews.groupby(\"reviewer\")[\"rating\"].std()\n",
    "rating_std_by_reviewer"
   ]
  },
  {
   "cell_type": "markdown",
   "id": "27cfa18e",
   "metadata": {},
   "source": [
    "### Identify the most and least consistent reviewers based on the standard deviation of their ratings.\n",
    "### Display the names of these reviewers along with their standard deviations."
   ]
  },
  {
   "cell_type": "markdown",
   "id": "0449ba65",
   "metadata": {},
   "source": [
    "- The most consistent reviewers"
   ]
  },
  {
   "cell_type": "code",
   "execution_count": 243,
   "id": "268c33aa",
   "metadata": {},
   "outputs": [
    {
     "data": {
      "text/plain": [
       "reviewer\n",
       "Noah Robinson    1.773415\n",
       "Ivy White        1.875449\n",
       "Paul Lewis       1.913984\n",
       "Victor Scott     1.940003\n",
       "Mia Martinez     2.092773\n",
       "Name: rating, dtype: float64"
      ]
     },
     "execution_count": 243,
     "metadata": {},
     "output_type": "execute_result"
    }
   ],
   "source": [
    "rating_std_by_reviewer.sort_values(ascending=True).head(5)"
   ]
  },
  {
   "cell_type": "markdown",
   "id": "6877b949",
   "metadata": {},
   "source": [
    "- The least consistent reviewers"
   ]
  },
  {
   "cell_type": "code",
   "execution_count": 244,
   "id": "393a2bc6",
   "metadata": {},
   "outputs": [
    {
     "data": {
      "text/plain": [
       "reviewer\n",
       "Zane Carter      3.567718\n",
       "Alice Johnson    3.293094\n",
       "Yara Baker       3.128221\n",
       "Bob Brown        2.961681\n",
       "Jack Martin      2.849389\n",
       "Name: rating, dtype: float64"
      ]
     },
     "execution_count": 244,
     "metadata": {},
     "output_type": "execute_result"
    }
   ],
   "source": [
    "rating_std_by_reviewer.sort_values(ascending=False).head(5)"
   ]
  },
  {
   "cell_type": "markdown",
   "id": "727ab540",
   "metadata": {},
   "source": [
    "## 10. Challenge Task - Genre Popularity Over Time:"
   ]
  },
  {
   "cell_type": "markdown",
   "id": "f029d8fa",
   "metadata": {},
   "source": [
    "### Analyze how the popularity of different genres has changed over time."
   ]
  },
  {
   "cell_type": "markdown",
   "id": "1d5f0808",
   "metadata": {},
   "source": [
    "### Group the joined dataframe by genre and the year extracted from the review_date column."
   ]
  },
  {
   "cell_type": "code",
   "execution_count": 245,
   "id": "a1d4705f",
   "metadata": {},
   "outputs": [],
   "source": [
    "movies_and_reviews_group_by_genre_and_year =  movies_and_reviews.groupby([\"genre\",\"review_year\"])"
   ]
  },
  {
   "cell_type": "markdown",
   "id": "6dfcd02b",
   "metadata": {},
   "source": [
    "### Calculate the number of reviews for each genre per month."
   ]
  },
  {
   "cell_type": "code",
   "execution_count": 246,
   "id": "8a02ab11",
   "metadata": {},
   "outputs": [
    {
     "data": {
      "text/plain": [
       "genre      review_month\n",
       "Action     1               1\n",
       "           2               4\n",
       "           3               3\n",
       "           4               7\n",
       "           5               1\n",
       "           6               6\n",
       "           7               4\n",
       "           8               3\n",
       "           9               3\n",
       "Biography  1               8\n",
       "           2               3\n",
       "           3               8\n",
       "           4               4\n",
       "           5               6\n",
       "           6               5\n",
       "           7               5\n",
       "           8               7\n",
       "           9               6\n",
       "           10              6\n",
       "Crime      1               8\n",
       "           2               5\n",
       "           3               6\n",
       "           4               7\n",
       "           5               9\n",
       "           6               5\n",
       "           7               7\n",
       "           8               7\n",
       "           9               6\n",
       "           10              7\n",
       "Drama      1               7\n",
       "           2               9\n",
       "           3               5\n",
       "           4               6\n",
       "           5               6\n",
       "           6               6\n",
       "           7               6\n",
       "           8               7\n",
       "           9               8\n",
       "           10              7\n",
       "Fantasy    1               5\n",
       "           2               5\n",
       "           3               5\n",
       "           4               2\n",
       "           5               6\n",
       "           6               5\n",
       "           7               5\n",
       "           8               2\n",
       "           9               2\n",
       "           10              1\n",
       "Sci-Fi     1               2\n",
       "           2               3\n",
       "           3               4\n",
       "           4               4\n",
       "           5               3\n",
       "           6               3\n",
       "           7               4\n",
       "           8               5\n",
       "           9               5\n",
       "           10              5\n",
       "Name: review_id, dtype: int64"
      ]
     },
     "execution_count": 246,
     "metadata": {},
     "output_type": "execute_result"
    }
   ],
   "source": [
    "number_of_review_for_genre = movies_and_reviews.groupby([\"genre\",\"review_month\"])[\"review_id\"].count()\n",
    "number_of_review_for_genre"
   ]
  },
  {
   "cell_type": "markdown",
   "id": "5ffa07da",
   "metadata": {},
   "source": [
    "### Create a line plot for each genre showing the number of reviews over time."
   ]
  },
  {
   "cell_type": "code",
   "execution_count": 247,
   "id": "789826d6",
   "metadata": {},
   "outputs": [
    {
     "data": {
      "image/png": "[encoded data removed]",
      "text/plain": [
       "<Figure size 640x480 with 1 Axes>"
      ]
     },
     "metadata": {},
     "output_type": "display_data"
    }
   ],
   "source": [
    "number_of_review_for_genre.unstack().transpose().plot(kind=\"line\",xlabel=\"Review Month\",ylabel=\"Number of Reviews\")\n",
    "plt.show()"
   ]
  },
  {
   "cell_type": "markdown",
   "id": "fe2e1463",
   "metadata": {},
   "source": [
    "### Discuss any trends or shifts in genre popularity over time."
   ]
  },
  {
   "cell_type": "markdown",
   "id": "792ad652",
   "metadata": {},
   "source": [
    "Based on the number of reviews..."
   ]
  },
  {
   "cell_type": "code",
   "execution_count": 248,
   "id": "bc6612c3",
   "metadata": {},
   "outputs": [
    {
     "data": {
      "text/plain": [
       "genre\n",
       "Sci-Fi       1.032796\n",
       "Drama        1.159502\n",
       "Crime        1.251666\n",
       "Biography    1.619328\n",
       "Fantasy      1.813529\n",
       "Action       2.006932\n",
       "dtype: float64"
      ]
     },
     "execution_count": 248,
     "metadata": {},
     "output_type": "execute_result"
    }
   ],
   "source": [
    "number_of_review_for_genre.unstack().transpose().std().sort_values()\n"
   ]
  },
  {
   "cell_type": "markdown",
   "id": "1879edcd",
   "metadata": {},
   "source": [
    "According to the chart and the standard deviation above, \n",
    "- \"Sci-Fi\" has the most consistent popularity based on the number of reviews.\n",
    "- \"Crime\" and \"Drama\" stays at higher rate than others over time."
   ]
  },
  {
   "cell_type": "markdown",
   "id": "8aeca789",
   "metadata": {},
   "source": [
    "Also, based on the average rating..."
   ]
  },
  {
   "cell_type": "code",
   "execution_count": 249,
   "id": "ec2aa995",
   "metadata": {},
   "outputs": [
    {
     "data": {
      "image/png": "[encoded data removed]",
      "text/plain": [
       "<Figure size 640x480 with 1 Axes>"
      ]
     },
     "metadata": {},
     "output_type": "display_data"
    }
   ],
   "source": [
    "average_rating_for_genre_in_each_month = movies_and_reviews.groupby([\"genre\",\"review_month\"])[\"rating\"].mean()\n",
    "average_rating_for_genre_in_each_month.unstack().transpose().plot(kind=\"line\",xlabel=\"Review Month\",ylabel=\"Average Rating\")\n",
    "plt.show()"
   ]
  },
  {
   "cell_type": "code",
   "execution_count": 250,
   "id": "aa119a33",
   "metadata": {},
   "outputs": [
    {
     "data": {
      "text/plain": [
       "genre\n",
       "Biography    0.914900\n",
       "Crime        0.938801\n",
       "Drama        0.958468\n",
       "Action       0.986074\n",
       "Sci-Fi       1.127888\n",
       "Fantasy      1.195641\n",
       "dtype: float64"
      ]
     },
     "execution_count": 250,
     "metadata": {},
     "output_type": "execute_result"
    }
   ],
   "source": [
    "average_rating_for_genre_in_each_month.unstack().transpose().std().sort_values()"
   ]
  },
  {
   "cell_type": "markdown",
   "id": "e3a6de0d",
   "metadata": {},
   "source": [
    "According to the chart above\n",
    "- \"Biography\" has the most consistent popularity based on the average rating.\n",
    "- \"Action\" and \"Drama\" hold steady in terms of audience reception."
   ]
  }
 ],
 "metadata": {
  "kernelspec": {
   "display_name": "base",
   "language": "python",
   "name": "python3"
  },
  "language_info": {
   "codemirror_mode": {
    "name": "ipython",
    "version": 3
   },
   "file_extension": ".py",
   "mimetype": "text/x-python",
   "name": "python",
   "nbconvert_exporter": "python",
   "pygments_lexer": "ipython3",
   "version": "3.12.4"
  }
 },
 "nbformat": 4,
 "nbformat_minor": 5
}
