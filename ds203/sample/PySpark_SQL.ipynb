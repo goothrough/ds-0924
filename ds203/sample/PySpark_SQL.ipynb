{
 "cells": [
  {
   "cell_type": "code",
   "execution_count": 28,
   "id": "bee51abc-8467-4212-9dac-6971e5f0432f",
   "metadata": {},
   "outputs": [],
   "source": [
    "from pyspark import SparkConf\n",
    "from pyspark.sql import SparkSession\n",
    "from pyspark.sql.functions import col, when, avg"
   ]
  },
  {
   "cell_type": "code",
   "execution_count": 29,
   "id": "11626d60-7fe4-4455-86f6-972726273489",
   "metadata": {},
   "outputs": [
    {
     "name": "stderr",
     "output_type": "stream",
     "text": [
      "24/11/28 14:44:05 WARN Utils: Service 'SparkUI' could not bind on port 4040. Attempting port 4041.\n"
     ]
    }
   ],
   "source": [
    "spark = SparkSession.builder.appName(\"PySpark Tutorial\").master(\"local[*]\").config(\"spark.driver.host\", \"localhost\").config(\"spark.executor.memory\", \"4g\").config(\"spark.driver.memory\", \"2g\").getOrCreate()"
   ]
  },
  {
   "cell_type": "code",
   "execution_count": 30,
   "id": "f5cbf7fc-444e-4c40-9d2f-80d4535981af",
   "metadata": {},
   "outputs": [
    {
     "name": "stdout",
     "output_type": "stream",
     "text": [
      "python3\n"
     ]
    }
   ],
   "source": [
    "print(spark.sparkContext.pythonExec)"
   ]
  },
  {
   "cell_type": "code",
   "execution_count": 31,
   "id": "5c96bd54-770a-4a44-bbec-201374b9052a",
   "metadata": {},
   "outputs": [],
   "source": [
    "data = [(\"John\", 28), (\"Anna\", 23), (\"Peter\", 34)]\n",
    "columns = [\"Name\", \"Age\"]"
   ]
  },
  {
   "cell_type": "code",
   "execution_count": 32,
   "id": "e4a687ea-e106-4c26-aba0-1bd294047075",
   "metadata": {},
   "outputs": [],
   "source": [
    "#Create dataframe\n",
    "df = spark.createDataFrame(data, columns)"
   ]
  },
  {
   "cell_type": "code",
   "execution_count": 33,
   "id": "98675c58-b811-4983-af0a-5c2c9229575a",
   "metadata": {},
   "outputs": [
    {
     "name": "stdout",
     "output_type": "stream",
     "text": [
      "root\n",
      " |-- Name: string (nullable = true)\n",
      " |-- Age: long (nullable = true)\n",
      "\n"
     ]
    }
   ],
   "source": [
    "df.printSchema()"
   ]
  },
  {
   "cell_type": "code",
   "execution_count": 34,
   "id": "0e4a370b-ecea-47a7-bda0-431ba63b1f26",
   "metadata": {},
   "outputs": [
    {
     "name": "stderr",
     "output_type": "stream",
     "text": [
      "/Users/suguruohashi/spark/python/lib/pyspark.zip/pyspark/daemon.py:154: DeprecationWarning: This process (pid=35048) is multi-threaded, use of fork() may lead to deadlocks in the child.\n",
      "                                                                                \r"
     ]
    },
    {
     "name": "stdout",
     "output_type": "stream",
     "text": [
      "+-----+---+\n",
      "| Name|Age|\n",
      "+-----+---+\n",
      "| John| 28|\n",
      "| Anna| 23|\n",
      "|Peter| 34|\n",
      "+-----+---+\n",
      "\n"
     ]
    }
   ],
   "source": [
    "df.show()"
   ]
  },
  {
   "cell_type": "code",
   "execution_count": 35,
   "id": "785ef7d4-9356-4d72-a93f-a692899c78a6",
   "metadata": {},
   "outputs": [],
   "source": [
    "df1 = df.withColumn(\"life_stage\",when(col(\"age\") < 13, \"child\").when(col(\"age\").between(13, 19), \"teenager\").otherwise(\"adult\"))"
   ]
  },
  {
   "cell_type": "code",
   "execution_count": 36,
   "id": "04b13df0-1dc2-4e6c-b7ff-6ca94694d325",
   "metadata": {},
   "outputs": [
    {
     "name": "stdout",
     "output_type": "stream",
     "text": [
      "root\n",
      " |-- Name: string (nullable = true)\n",
      " |-- Age: long (nullable = true)\n",
      " |-- life_stage: string (nullable = false)\n",
      "\n"
     ]
    }
   ],
   "source": [
    "df1.printSchema()"
   ]
  },
  {
   "cell_type": "code",
   "execution_count": 37,
   "id": "1c8ca01d-18bf-49a4-8a27-f63eecabd88b",
   "metadata": {},
   "outputs": [
    {
     "name": "stdout",
     "output_type": "stream",
     "text": [
      "+-----+---+----------+\n",
      "| Name|Age|life_stage|\n",
      "+-----+---+----------+\n",
      "| John| 28|     adult|\n",
      "| Anna| 23|     adult|\n",
      "|Peter| 34|     adult|\n",
      "+-----+---+----------+\n",
      "\n"
     ]
    }
   ],
   "source": [
    "df1.show()"
   ]
  },
  {
   "cell_type": "code",
   "execution_count": 38,
   "id": "756b3e9d-f9fc-4dc0-9f2e-6f4846202e8e",
   "metadata": {},
   "outputs": [
    {
     "name": "stdout",
     "output_type": "stream",
     "text": [
      "+-----+---+\n",
      "| Name|Age|\n",
      "+-----+---+\n",
      "| John| 28|\n",
      "| Anna| 23|\n",
      "|Peter| 34|\n",
      "+-----+---+\n",
      "\n"
     ]
    }
   ],
   "source": [
    "df.show()"
   ]
  },
  {
   "cell_type": "code",
   "execution_count": 39,
   "id": "0f70a7a5-d5b5-47c5-aeee-757075e3636c",
   "metadata": {},
   "outputs": [
    {
     "name": "stdout",
     "output_type": "stream",
     "text": [
      "+-----+---+----------+\n",
      "| Name|Age|life_stage|\n",
      "+-----+---+----------+\n",
      "| John| 28|     adult|\n",
      "| Anna| 23|     adult|\n",
      "|Peter| 34|     adult|\n",
      "+-----+---+----------+\n",
      "\n"
     ]
    }
   ],
   "source": [
    "df1.where(col(\"life_stage\").isin([\"teenager\", \"adult\"])).show()"
   ]
  },
  {
   "cell_type": "code",
   "execution_count": 40,
   "id": "369508d9-0fbb-4926-b3f3-28ec3ea13a5d",
   "metadata": {},
   "outputs": [],
   "source": [
    "#Add new rows\n",
    "new_rows = [['Sue', 11, 'child'], ['Adam', 15, 'teenager']]"
   ]
  },
  {
   "cell_type": "code",
   "execution_count": 41,
   "id": "535ce89b-f50e-4791-83ed-8c2fd7e1a681",
   "metadata": {},
   "outputs": [],
   "source": [
    "new_df = spark.createDataFrame(new_rows, columns)"
   ]
  },
  {
   "cell_type": "code",
   "execution_count": 42,
   "id": "ab38cfed-06b4-4670-a82a-5d2f9445ce8c",
   "metadata": {},
   "outputs": [
    {
     "name": "stdout",
     "output_type": "stream",
     "text": [
      "+-----+---+----------+\n",
      "| Name|Age|life_stage|\n",
      "+-----+---+----------+\n",
      "| John| 28|     adult|\n",
      "| Anna| 23|     adult|\n",
      "|Peter| 34|     adult|\n",
      "|  Sue| 11|     child|\n",
      "| Adam| 15|  teenager|\n",
      "+-----+---+----------+\n",
      "\n"
     ]
    }
   ],
   "source": [
    "#Append new rows to the existing dataframe\n",
    "df1 = df1.union(new_df)\n",
    "df1.show()"
   ]
  },
  {
   "cell_type": "code",
   "execution_count": 43,
   "id": "687a2c48-eb86-4e8f-95a6-0f4de04b4481",
   "metadata": {},
   "outputs": [
    {
     "name": "stdout",
     "output_type": "stream",
     "text": [
      "+-----+---+----------+\n",
      "| Name|Age|life_stage|\n",
      "+-----+---+----------+\n",
      "| John| 28|     adult|\n",
      "| Anna| 23|     adult|\n",
      "|Peter| 34|     adult|\n",
      "| Adam| 15|  teenager|\n",
      "+-----+---+----------+\n",
      "\n"
     ]
    }
   ],
   "source": [
    "df1.where(col(\"life_stage\").isin([\"teenager\", \"adult\"])).show()"
   ]
  },
  {
   "cell_type": "code",
   "execution_count": 44,
   "id": "20c6113e-05f4-43fc-ad84-0aa48ea96df2",
   "metadata": {},
   "outputs": [
    {
     "name": "stderr",
     "output_type": "stream",
     "text": [
      "[Stage 18:============================>                            (8 + 8) / 16]\r"
     ]
    },
    {
     "name": "stdout",
     "output_type": "stream",
     "text": [
      "+--------+\n",
      "|avg(age)|\n",
      "+--------+\n",
      "|    22.2|\n",
      "+--------+\n",
      "\n"
     ]
    },
    {
     "name": "stderr",
     "output_type": "stream",
     "text": [
      "                                                                                \r"
     ]
    }
   ],
   "source": [
    "#perform aggregate function(avg)\n",
    "df1.select(avg('age')).show()"
   ]
  },
  {
   "cell_type": "code",
   "execution_count": 45,
   "id": "d4c26717-3333-4d99-9573-905c50a5e5bd",
   "metadata": {},
   "outputs": [
    {
     "name": "stdout",
     "output_type": "stream",
     "text": [
      "+-----------+\n",
      "|age_average|\n",
      "+-----------+\n",
      "|       22.2|\n",
      "+-----------+\n",
      "\n"
     ]
    }
   ],
   "source": [
    "df1.select(avg('age').alias('age_average')).show()"
   ]
  },
  {
   "cell_type": "code",
   "execution_count": 46,
   "id": "48518973-0482-461c-94ce-4f1a319cdea8",
   "metadata": {},
   "outputs": [
    {
     "name": "stdout",
     "output_type": "stream",
     "text": [
      "+----------+------------------+\n",
      "|life_stage|       age_average|\n",
      "+----------+------------------+\n",
      "|     adult|28.333333333333332|\n",
      "|     child|              11.0|\n",
      "|  teenager|              15.0|\n",
      "+----------+------------------+\n",
      "\n"
     ]
    }
   ],
   "source": [
    "#Group by function\n",
    "df1.groupBy(\"life_stage\").agg(avg('age').alias('age_average')).show()"
   ]
  },
  {
   "cell_type": "code",
   "execution_count": 47,
   "id": "552558c4-5a41-4988-a7ce-cb35024ab01f",
   "metadata": {},
   "outputs": [
    {
     "name": "stdout",
     "output_type": "stream",
     "text": [
      "+----------+------------------+\n",
      "|life_stage|       age_average|\n",
      "+----------+------------------+\n",
      "|     adult|28.333333333333332|\n",
      "|     child|              11.0|\n",
      "|  teenager|              15.0|\n",
      "+----------+------------------+\n",
      "\n"
     ]
    }
   ],
   "source": [
    "spark.sql(\"select life_stage, avg(age) as age_average from {df1} group by life_stage\", df1=df1).show()"
   ]
  },
  {
   "cell_type": "code",
   "execution_count": 48,
   "id": "360bcfef-8894-400f-b814-cb470c18bb74",
   "metadata": {},
   "outputs": [
    {
     "name": "stdout",
     "output_type": "stream",
     "text": [
      "+----------+-----+\n",
      "|life_stage|count|\n",
      "+----------+-----+\n",
      "|     adult|    3|\n",
      "|     child|    1|\n",
      "|  teenager|    1|\n",
      "+----------+-----+\n",
      "\n"
     ]
    }
   ],
   "source": [
    "#count function\n",
    "df1.groupBy(\"life_stage\").count().show()"
   ]
  },
  {
   "cell_type": "code",
   "execution_count": 49,
   "id": "f091a96b-9672-4e92-89b7-e23383f735f2",
   "metadata": {},
   "outputs": [
    {
     "name": "stderr",
     "output_type": "stream",
     "text": [
      "                                                                                \r"
     ]
    },
    {
     "name": "stdout",
     "output_type": "stream",
     "text": [
      "+-----+---+----------+\n",
      "| Name|Age|life_stage|\n",
      "+-----+---+----------+\n",
      "| Adam| 15|  teenager|\n",
      "|  Sue| 11|     child|\n",
      "| Anna| 23|     adult|\n",
      "|Peter| 34|     adult|\n",
      "| John| 28|     adult|\n",
      "+-----+---+----------+\n",
      "\n"
     ]
    }
   ],
   "source": [
    "df1.sort(df1.life_stage.desc()).show()"
   ]
  },
  {
   "cell_type": "code",
   "execution_count": 50,
   "id": "85343c3e-275a-48fa-a766-abd772668f7f",
   "metadata": {},
   "outputs": [
    {
     "name": "stdout",
     "output_type": "stream",
     "text": [
      "+-----+---+----------+\n",
      "| Name|Age|life_stage|\n",
      "+-----+---+----------+\n",
      "| Adam| 15|  teenager|\n",
      "|  Sue| 11|     child|\n",
      "|Peter| 34|     adult|\n",
      "| Anna| 23|     adult|\n",
      "| John| 28|     adult|\n",
      "+-----+---+----------+\n",
      "\n"
     ]
    }
   ],
   "source": [
    "df1.orderBy(col('life_stage').desc()).show()"
   ]
  },
  {
   "cell_type": "code",
   "execution_count": 51,
   "id": "d4f735ce-4d4b-4633-8a31-33d1b0b848af",
   "metadata": {},
   "outputs": [
    {
     "name": "stdout",
     "output_type": "stream",
     "text": [
      "+-----------+\n",
      "|age_average|\n",
      "+-----------+\n",
      "|       22.2|\n",
      "+-----------+\n",
      "\n"
     ]
    }
   ],
   "source": [
    "spark.sql(\"select avg(age) as age_average from {df1}\", df1=df1).show()"
   ]
  },
  {
   "cell_type": "code",
   "execution_count": 52,
   "id": "cbec5662-0f9f-4b39-80c3-7a255bd3f748",
   "metadata": {},
   "outputs": [
    {
     "name": "stdout",
     "output_type": "stream",
     "text": [
      "+----------+------------------+\n",
      "|life_stage|          avg(age)|\n",
      "+----------+------------------+\n",
      "|     adult|28.333333333333332|\n",
      "|     child|              11.0|\n",
      "|  teenager|              15.0|\n",
      "+----------+------------------+\n",
      "\n"
     ]
    }
   ],
   "source": [
    "spark.sql(\"select life_stage, avg(age) from {df1} group by life_stage\", df1=df1).show()"
   ]
  },
  {
   "cell_type": "code",
   "execution_count": 53,
   "id": "626b9ea4-b0de-44eb-ad95-111efce2a7fb",
   "metadata": {},
   "outputs": [
    {
     "name": "stdout",
     "output_type": "stream",
     "text": [
      "+----------+------------------+\n",
      "|life_stage|       age_average|\n",
      "+----------+------------------+\n",
      "|     adult|28.333333333333332|\n",
      "|     child|              11.0|\n",
      "|  teenager|              15.0|\n",
      "+----------+------------------+\n",
      "\n"
     ]
    }
   ],
   "source": [
    "#aliasing\n",
    "spark.sql(\"select life_stage, avg(age) as age_average from {df1} group by life_stage\", df1=df1).show()"
   ]
  },
  {
   "cell_type": "code",
   "execution_count": 54,
   "id": "5f539806-bd8a-46d5-920a-e11a818a1978",
   "metadata": {},
   "outputs": [],
   "source": [
    "#End the session\n",
    "spark.stop()"
   ]
  }
 ],
 "metadata": {
  "kernelspec": {
   "display_name": "venv",
   "language": "python",
   "name": "python3"
  },
  "language_info": {
   "codemirror_mode": {
    "name": "ipython",
    "version": 3
   },
   "file_extension": ".py",
   "mimetype": "text/x-python",
   "name": "python",
   "nbconvert_exporter": "python",
   "pygments_lexer": "ipython3",
   "version": "3.12.5"
  }
 },
 "nbformat": 4,
 "nbformat_minor": 5
}
