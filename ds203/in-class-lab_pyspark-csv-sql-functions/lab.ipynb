{
 "cells": [
  {
   "cell_type": "markdown",
   "id": "fc920dd1",
   "metadata": {},
   "source": [
    "# In-Class Lab: PySpark CSV and SQL functions"
   ]
  },
  {
   "cell_type": "markdown",
   "id": "d2c55158",
   "metadata": {},
   "source": [
    "# Setting"
   ]
  },
  {
   "cell_type": "code",
   "execution_count": 526,
   "id": "7ab6d829-22cd-4ba0-92c8-74a45b9512ba",
   "metadata": {},
   "outputs": [],
   "source": [
    "from pyspark.sql import SparkSession\n",
    "from pyspark.sql.types import StructType, StructField, StringType, IntegerType\n",
    "\n",
    "spark = (\n",
    "    SparkSession.builder.appName(\"PySpark with CSV\")\n",
    "    .master(\"local[*]\")\n",
    "    .config(\"spark.driver.host\", \"localhost\")\n",
    "    .config(\"spark.executor.memory\", \"4g\")\n",
    "    .config(\"spark.driver.memory\", \"2g\")\n",
    "    .getOrCreate()\n",
    ")"
   ]
  },
  {
   "cell_type": "code",
   "execution_count": 527,
   "id": "f764fb9a",
   "metadata": {},
   "outputs": [
    {
     "name": "stdout",
     "output_type": "stream",
     "text": [
      "python3\n"
     ]
    }
   ],
   "source": [
    "print(spark.sparkContext.pythonExec)"
   ]
  },
  {
   "cell_type": "markdown",
   "id": "69e3498f",
   "metadata": {},
   "source": [
    "## 1. Read the csv file in PySpark\n",
    "## 2. Create the schema."
   ]
  },
  {
   "cell_type": "code",
   "execution_count": 528,
   "id": "9ff8a190",
   "metadata": {},
   "outputs": [],
   "source": [
    "schema = (\n",
    "    StructType()\n",
    "    .add(\"RecordNumber\", IntegerType(), True)\n",
    "    .add(\"Country\", StringType(), True)\n",
    "    .add(\"City\", StringType(), True)\n",
    "    .add(\"Zipcode\", IntegerType(), True)\n",
    "    .add(\"State\", StringType(), True)\n",
    ")\n",
    "df_with_schema = spark.read.format('csv').option('header', True).schema(schema).load('simple-zipcodes.csv')"
   ]
  },
  {
   "cell_type": "code",
   "execution_count": 529,
   "id": "e4573587",
   "metadata": {},
   "outputs": [
    {
     "name": "stdout",
     "output_type": "stream",
     "text": [
      "root\n",
      " |-- RecordNumber: integer (nullable = true)\n",
      " |-- Country: string (nullable = true)\n",
      " |-- City: string (nullable = true)\n",
      " |-- Zipcode: integer (nullable = true)\n",
      " |-- State: string (nullable = true)\n",
      "\n"
     ]
    }
   ],
   "source": [
    "df_with_schema.printSchema()"
   ]
  },
  {
   "cell_type": "markdown",
   "id": "e681828a",
   "metadata": {},
   "source": [
    "## 3. Create a table ‘customer_demographics’ with the csv file."
   ]
  },
  {
   "cell_type": "code",
   "execution_count": 530,
   "id": "39316017",
   "metadata": {},
   "outputs": [],
   "source": [
    "df_with_schema.createOrReplaceTempView('customer_demographics')"
   ]
  },
  {
   "cell_type": "markdown",
   "id": "e132bede",
   "metadata": {},
   "source": [
    "## 4. Select Country and City from the table."
   ]
  },
  {
   "cell_type": "code",
   "execution_count": 531,
   "id": "2111b328",
   "metadata": {},
   "outputs": [
    {
     "name": "stdout",
     "output_type": "stream",
     "text": [
      "+-------+-------------------+\n",
      "|Country|               City|\n",
      "+-------+-------------------+\n",
      "|     US|        PARC PARQUE|\n",
      "|     US|PASEO COSTA DEL SUR|\n",
      "|     US|       BDA SAN LUIS|\n",
      "|     US|               HOLT|\n",
      "|     US|          HOMOSASSA|\n",
      "|     US|  CINGULAR WIRELESS|\n",
      "|     US|         FORT WORTH|\n",
      "|     US|           FT WORTH|\n",
      "|     US|        SPRUCE PINE|\n",
      "|     US|           ASH HILL|\n",
      "|     US|    URB EUGENE RICE|\n",
      "|     US|               MESA|\n",
      "|     US|               MESA|\n",
      "|     US|           HILLIARD|\n",
      "|     US|             HOLDER|\n",
      "|     US|      SECT LANAUSSE|\n",
      "|     US|      SPRING GARDEN|\n",
      "|     US|        SPRINGVILLE|\n",
      "|     US|           ASHEBORO|\n",
      "|     US|           ASHEBORO|\n",
      "+-------+-------------------+\n",
      "\n"
     ]
    }
   ],
   "source": [
    "spark.sql(\"\"\" SELECT Country, City FROM customer_demographics\"\"\").show()"
   ]
  },
  {
   "cell_type": "markdown",
   "id": "1a1461c7",
   "metadata": {},
   "source": [
    "## 5. Select records of all the cities that start with ‘F’ and ‘S’."
   ]
  },
  {
   "cell_type": "code",
   "execution_count": 532,
   "id": "574e872d",
   "metadata": {},
   "outputs": [
    {
     "name": "stdout",
     "output_type": "stream",
     "text": [
      "+-------------+\n",
      "|         City|\n",
      "+-------------+\n",
      "|   FORT WORTH|\n",
      "|     FT WORTH|\n",
      "|  SPRUCE PINE|\n",
      "|SECT LANAUSSE|\n",
      "|SPRING GARDEN|\n",
      "|  SPRINGVILLE|\n",
      "+-------------+\n",
      "\n"
     ]
    }
   ],
   "source": [
    "spark.sql(\"\"\"   SELECT \n",
    "                    City\n",
    "                FROM\n",
    "                    customer_demographics\n",
    "                WHERE\n",
    "                    City LIKE 'F%'\n",
    "                    or City LIKE 'S%' \n",
    "                \"\"\").show()"
   ]
  },
  {
   "cell_type": "markdown",
   "id": "22dedcdc",
   "metadata": {},
   "source": [
    "## 6. Select all the cities which have a 3 digit zipcode."
   ]
  },
  {
   "cell_type": "code",
   "execution_count": 533,
   "id": "0a6f7b4c",
   "metadata": {},
   "outputs": [
    {
     "name": "stdout",
     "output_type": "stream",
     "text": [
      "+-------------------+-------+\n",
      "|               City|Zipcode|\n",
      "+-------------------+-------+\n",
      "|        PARC PARQUE|    704|\n",
      "|PASEO COSTA DEL SUR|    704|\n",
      "|       BDA SAN LUIS|    709|\n",
      "|    URB EUGENE RICE|    704|\n",
      "|      SECT LANAUSSE|    704|\n",
      "+-------------------+-------+\n",
      "\n"
     ]
    }
   ],
   "source": [
    "spark.sql(\"\"\"   SELECT \n",
    "                    City, Zipcode\n",
    "                FROM\n",
    "                    customer_demographics\n",
    "                WHERE\n",
    "                    Zipcode RLIKE '^[0-9]{3}$'\n",
    "                \"\"\").show()"
   ]
  },
  {
   "cell_type": "markdown",
   "id": "64b3d369",
   "metadata": {},
   "source": [
    "## 7. Order the cities by zipcode in descending order."
   ]
  },
  {
   "cell_type": "code",
   "execution_count": 534,
   "id": "db549579",
   "metadata": {},
   "outputs": [
    {
     "name": "stdout",
     "output_type": "stream",
     "text": [
      "+------------+-------+-------------------+-------+-----+\n",
      "|RecordNumber|Country|               City|Zipcode|State|\n",
      "+------------+-------+-------------------+-------+-----+\n",
      "|       39828|     US|               MESA|  85210|   AZ|\n",
      "|       39827|     US|               MESA|  85209|   AZ|\n",
      "|       61392|     US|         FORT WORTH|  76177|   TX|\n",
      "|       61393|     US|           FT WORTH|  76177|   TX|\n",
      "|       61391|     US|  CINGULAR WIRELESS|  76166|   TX|\n",
      "|       54354|     US|      SPRING GARDEN|  36275|   AL|\n",
      "|       54356|     US|        SPRUCE PINE|  35585|   AL|\n",
      "|       54355|     US|        SPRINGVILLE|  35146|   AL|\n",
      "|       49348|     US|          HOMOSASSA|  34487|   FL|\n",
      "|       49346|     US|             HOLDER|  34445|   FL|\n",
      "|       49347|     US|               HOLT|  32564|   FL|\n",
      "|       49345|     US|           HILLIARD|  32046|   FL|\n",
      "|       76513|     US|           ASHEBORO|  27204|   NC|\n",
      "|       76512|     US|           ASHEBORO|  27203|   NC|\n",
      "|       76511|     US|           ASH HILL|  27007|   NC|\n",
      "|          10|     US|       BDA SAN LUIS|    709|   PR|\n",
      "|           1|     US|        PARC PARQUE|    704|   PR|\n",
      "|           2|     US|PASEO COSTA DEL SUR|    704|   PR|\n",
      "|           4|     US|    URB EUGENE RICE|    704|   PR|\n",
      "|           3|     US|      SECT LANAUSSE|    704|   PR|\n",
      "+------------+-------+-------------------+-------+-----+\n",
      "\n"
     ]
    }
   ],
   "source": [
    "result = spark.sql(\"\"\"   SELECT \n",
    "                    *\n",
    "                FROM\n",
    "                    customer_demographics\n",
    "                ORDER BY Zipcode DESC\n",
    "                \"\"\")\n",
    "result.show()"
   ]
  },
  {
   "cell_type": "markdown",
   "id": "0add360e",
   "metadata": {},
   "source": [
    "## 8. Write the result to a csv file ‘Customer_demographics.csv’"
   ]
  },
  {
   "cell_type": "code",
   "execution_count": 535,
   "id": "6e08edbb",
   "metadata": {},
   "outputs": [],
   "source": [
    "result.write.mode(\"overwrite\").option(\"header\", \"true\").csv(\"Customer_demographics\")"
   ]
  }
 ],
 "metadata": {
  "kernelspec": {
   "display_name": "venv",
   "language": "python",
   "name": "python3"
  },
  "language_info": {
   "codemirror_mode": {
    "name": "ipython",
    "version": 3
   },
   "file_extension": ".py",
   "mimetype": "text/x-python",
   "name": "python",
   "nbconvert_exporter": "python",
   "pygments_lexer": "ipython3",
   "version": "3.12.5"
  }
 },
 "nbformat": 4,
 "nbformat_minor": 5
}
