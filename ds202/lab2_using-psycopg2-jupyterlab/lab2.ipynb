{
 "cells": [
  {
   "cell_type": "markdown",
   "id": "a574cfb5",
   "metadata": {},
   "source": [
    "## Set up\n",
    "### Define a common function to handle errors effectively"
   ]
  },
  {
   "cell_type": "code",
   "execution_count": 244,
   "id": "09aade9b",
   "metadata": {},
   "outputs": [],
   "source": [
    "import psycopg2\n",
    "\n",
    "# Common function to get connection to DB\n",
    "def get_connection():\n",
    "    db_config = {\n",
    "    \"dbname\": \"testdb\",\n",
    "    \"user\": \"postgres\",\n",
    "    \"password\": \"postgres\",\n",
    "    \"host\": \"localhost\",\n",
    "    \"port\": \"5432\",\n",
    "    }\n",
    "\n",
    "    try:\n",
    "        # Connect to DB\n",
    "        conn = psycopg2.connect(**db_config)\n",
    "        return conn\n",
    "    except psycopg2.Error as e:\n",
    "        print(\"Error: \", e)\n",
    "        return None"
   ]
  },
  {
   "cell_type": "markdown",
   "id": "51331de3",
   "metadata": {},
   "source": [
    "### Initialize tables"
   ]
  },
  {
   "cell_type": "code",
   "execution_count": 245,
   "id": "ae9bcdc1-5ad9-48dc-83c5-32674341a496",
   "metadata": {},
   "outputs": [],
   "source": [
    "try:\n",
    "    conn = get_connection()\n",
    "    cur = conn.cursor()\n",
    "    \n",
    "    # Initialize employee table\n",
    "    cur.execute(\"TRUNCATE TABLE employees;\")\n",
    "    employees = [\n",
    "        (1, \"Alice\", 30, \"HR\"),\n",
    "        (2, \"Bob\", 25, \"Engineering\"),\n",
    "        (3, \"Charlie\", 35, \"Marketing\"),\n",
    "    ]\n",
    "    cur.executemany(\n",
    "        \"INSERT INTO employees (id, name, age, department) VALUES (%s, %s, %s, %s)\",\n",
    "        employees,\n",
    "    )\n",
    "    \n",
    "    # Drop departments table\n",
    "    cur.execute(\n",
    "        \"\"\"\n",
    "        DROP TABLE IF EXISTS departments\n",
    "        \"\"\"\n",
    "    )\n",
    "    \n",
    "    # Commit the changes\n",
    "    conn.commit()\n",
    "    \n",
    "except psycopg2.Error as e:\n",
    "    print(\"Error: \", e)\n",
    "\n",
    "finally:\n",
    "    cur.close()\n",
    "    conn.close()\n"
   ]
  },
  {
   "cell_type": "markdown",
   "id": "a31e4760",
   "metadata": {},
   "source": [
    "## Exercise 1: Create a New Table"
   ]
  },
  {
   "cell_type": "code",
   "execution_count": 246,
   "id": "8a22c54d",
   "metadata": {},
   "outputs": [],
   "source": [
    "try:\n",
    "    conn = get_connection()\n",
    "    cur = conn.cursor()\n",
    "    \n",
    "    # Create department table\n",
    "    cur.execute(\n",
    "        \"\"\"\n",
    "        CREATE TABLE departments (\n",
    "            id integer PRIMARY KEY,\n",
    "            name text\n",
    "        )\n",
    "        \"\"\"\n",
    "    )\n",
    "    # Commit the changes\n",
    "    conn.commit()\n",
    "    \n",
    "except psycopg2.Error as e:\n",
    "    print(\"Error: \", e)\n",
    "\n",
    "finally:\n",
    "    cur.close()\n",
    "    conn.close()"
   ]
  },
  {
   "cell_type": "markdown",
   "id": "3288ec80",
   "metadata": {},
   "source": [
    "## Exercise 2: Insert Data into the Table"
   ]
  },
  {
   "cell_type": "code",
   "execution_count": 247,
   "id": "60b3996e",
   "metadata": {},
   "outputs": [],
   "source": [
    "try:\n",
    "    conn = get_connection()\n",
    "    cur = conn.cursor()\n",
    "    \n",
    "    # Insert data into the table\n",
    "    departments = [(1, \"HR\"), (2, \"Engineering\"), (3, \"Marketing\")]\n",
    "    cur.executemany(\"INSERT INTO departments (id, name) VALUES (%s, %s)\", departments)\n",
    "    # Commit the changes\n",
    "    conn.commit()\n",
    "    \n",
    "except psycopg2.Error as e:\n",
    "    print(\"Error: \", e)\n",
    "\n",
    "finally:\n",
    "    cur.close()\n",
    "    conn.close()\n"
   ]
  },
  {
   "cell_type": "markdown",
   "id": "b44fd07b",
   "metadata": {},
   "source": [
    "## Exercise 3: Query Data from Both Tables"
   ]
  },
  {
   "cell_type": "markdown",
   "id": "ae7a5f3b",
   "metadata": {},
   "source": [
    "### Select data from departments table"
   ]
  },
  {
   "cell_type": "code",
   "execution_count": 248,
   "id": "3e590a4f",
   "metadata": {},
   "outputs": [
    {
     "name": "stdout",
     "output_type": "stream",
     "text": [
      "(1, 'HR')\n",
      "(2, 'Engineering')\n",
      "(3, 'Marketing')\n"
     ]
    }
   ],
   "source": [
    "try:\n",
    "    conn = get_connection()\n",
    "    cur = conn.cursor()\n",
    "\n",
    "    cur.execute(\"SELECT * FROM departments;\")\n",
    "    rows = cur.fetchall()\n",
    "    # Print all rows\n",
    "    for row in rows:\n",
    "        print(row)\n",
    "\n",
    "except psycopg2.Error as e:\n",
    "    print(\"Error: \", e)\n",
    "\n",
    "finally:\n",
    "    cur.close()\n",
    "    conn.close()\n"
   ]
  },
  {
   "cell_type": "markdown",
   "id": "b82e3e0b",
   "metadata": {},
   "source": [
    "### Select data from employees table"
   ]
  },
  {
   "cell_type": "code",
   "execution_count": 249,
   "id": "8f8d9425",
   "metadata": {},
   "outputs": [
    {
     "name": "stdout",
     "output_type": "stream",
     "text": [
      "(1, 'Alice', 30, 'HR')\n",
      "(2, 'Bob', 25, 'Engineering')\n",
      "(3, 'Charlie', 35, 'Marketing')\n"
     ]
    }
   ],
   "source": [
    "try:\n",
    "    conn = get_connection()\n",
    "    cur = conn.cursor()\n",
    "\n",
    "    cur.execute(\"SELECT * FROM employees;\")\n",
    "    rows = cur.fetchall()\n",
    "    # Print all rows\n",
    "    for row in rows:\n",
    "        print(row)\n",
    "\n",
    "except psycopg2.Error as e:\n",
    "    print(\"Error: \", e)\n",
    "\n",
    "finally:\n",
    "    cur.close()\n",
    "    conn.close()\n"
   ]
  },
  {
   "cell_type": "markdown",
   "id": "c14e68bb",
   "metadata": {},
   "source": [
    "### Select data from both tables"
   ]
  },
  {
   "cell_type": "code",
   "execution_count": 250,
   "id": "5a6eaf9b",
   "metadata": {},
   "outputs": [
    {
     "name": "stdout",
     "output_type": "stream",
     "text": [
      "(1, 'Alice', 30, 'HR', 1, 'HR')\n",
      "(2, 'Bob', 25, 'Engineering', 2, 'Engineering')\n",
      "(3, 'Charlie', 35, 'Marketing', 3, 'Marketing')\n"
     ]
    }
   ],
   "source": [
    "try:\n",
    "    conn = get_connection()\n",
    "    cur = conn.cursor()\n",
    "\n",
    "    cur.execute(\n",
    "        \"\"\"\n",
    "        SELECT * \n",
    "        FROM employees emp\n",
    "        INNER JOIN departments dep\n",
    "        ON emp.department = dep.name\n",
    "        ORDER BY emp.id\n",
    "        ;\n",
    "        \"\"\"\n",
    "    )\n",
    "    rows = cur.fetchall()\n",
    "    # Print all rows\n",
    "    for row in rows:\n",
    "        print(row)\n",
    "    \n",
    "except psycopg2.Error as e:\n",
    "    print(\"Error: \", e)\n",
    "\n",
    "finally:\n",
    "    cur.close()\n",
    "    conn.close()"
   ]
  },
  {
   "cell_type": "markdown",
   "id": "71e1eb5c",
   "metadata": {},
   "source": [
    "## Exercise 4: Update Data"
   ]
  },
  {
   "cell_type": "code",
   "execution_count": 251,
   "id": "60f32c57",
   "metadata": {},
   "outputs": [
    {
     "name": "stdout",
     "output_type": "stream",
     "text": [
      "---Before Update---\n",
      "(1, 'Alice', 30, 'HR')\n",
      "---After Update---\n",
      "(1, 'Alice', 99, 'HR')\n"
     ]
    }
   ],
   "source": [
    "try:\n",
    "    conn = get_connection()\n",
    "    cur = conn.cursor()\n",
    "\n",
    "    cur.execute(\n",
    "        \"\"\"\n",
    "        SELECT *\n",
    "        FROM employees\n",
    "        WHERE id = %s\n",
    "        ;\n",
    "        \"\"\",\n",
    "        (1,),\n",
    "    )\n",
    "    rows = cur.fetchall()\n",
    "    print(\"---Before Update---\")\n",
    "    # Print all rows\n",
    "    for row in rows:\n",
    "        print(row)\n",
    "        \n",
    "    # Update an employee's age\n",
    "    cur.execute(\n",
    "        \"\"\"\n",
    "        UPDATE employees\n",
    "        SET age = %s\n",
    "        WHERE id = %s\n",
    "        \"\"\",\n",
    "        (99, 1),\n",
    "    )\n",
    "    # Commit the changes\n",
    "    conn.commit()\n",
    "\n",
    "    # View the result\n",
    "    cur.execute(\n",
    "        \"\"\"\n",
    "        SELECT *\n",
    "        FROM employees\n",
    "        WHERE id = %s\n",
    "        ;\n",
    "        \"\"\",\n",
    "        (1,),\n",
    "    )\n",
    "    rows = cur.fetchall()\n",
    "    print(\"---After Update---\")\n",
    "    # Print all rows\n",
    "    for row in rows:\n",
    "        print(row)\n",
    "\n",
    "except psycopg2.Error as e:\n",
    "    print(\"Error: \", e)\n",
    "\n",
    "finally:\n",
    "    cur.close()\n",
    "    conn.close()"
   ]
  },
  {
   "cell_type": "markdown",
   "id": "81268770",
   "metadata": {},
   "source": [
    "## Exercise 5: Delete Data"
   ]
  },
  {
   "cell_type": "code",
   "execution_count": 252,
   "id": "bbe42eb7",
   "metadata": {},
   "outputs": [
    {
     "name": "stdout",
     "output_type": "stream",
     "text": [
      "---Before Delete---\n",
      "(1, 'Alice', 99, 'HR')\n",
      "(2, 'Bob', 25, 'Engineering')\n",
      "(3, 'Charlie', 35, 'Marketing')\n",
      "---After Update---\n",
      "(2, 'Bob', 25, 'Engineering')\n",
      "(3, 'Charlie', 35, 'Marketing')\n"
     ]
    }
   ],
   "source": [
    "try:\n",
    "    conn = get_connection()\n",
    "    cur = conn.cursor()\n",
    "     \n",
    "    cur.execute(\"SELECT * FROM employees ORDER BY id;\")\n",
    "    rows = cur.fetchall()\n",
    "    # Print all rows\n",
    "    print(\"---Before Delete---\")\n",
    "    for row in rows:\n",
    "        print(row)\n",
    "\n",
    "    # Delete a record from employees table\n",
    "    cur.execute(\n",
    "        \"\"\"\n",
    "        DELETE\n",
    "        FROM employees\n",
    "        WHERE id = %s\n",
    "        \"\"\",\n",
    "        (1,),\n",
    "    )\n",
    "    # Commit the changes\n",
    "    conn.commit()\n",
    "\n",
    "    # View the result\n",
    "    cur.execute(\n",
    "        \"\"\"\n",
    "        SELECT *\n",
    "        FROM employees\n",
    "        ;\n",
    "        \"\"\",\n",
    "        (1,),\n",
    "    )\n",
    "    rows = cur.fetchall()\n",
    "    print(\"---After Update---\")\n",
    "    # Print all rows\n",
    "    for row in rows:\n",
    "        print(row)\n",
    "    \n",
    "except psycopg2.Error as e:\n",
    "    print(\"Error: \", e)\n",
    "\n",
    "finally:\n",
    "    cur.close()\n",
    "    conn.close()"
   ]
  }
 ],
 "metadata": {
  "kernelspec": {
   "display_name": "venv",
   "language": "python",
   "name": "python3"
  },
  "language_info": {
   "codemirror_mode": {
    "name": "ipython",
    "version": 3
   },
   "file_extension": ".py",
   "mimetype": "text/x-python",
   "name": "python",
   "nbconvert_exporter": "python",
   "pygments_lexer": "ipython3",
   "version": "3.12.5"
  }
 },
 "nbformat": 4,
 "nbformat_minor": 5
}
